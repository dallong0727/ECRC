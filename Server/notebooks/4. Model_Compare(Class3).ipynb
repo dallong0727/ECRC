{
 "cells": [
  {
   "cell_type": "code",
   "execution_count": 1,
   "metadata": {},
   "outputs": [],
   "source": [
    "import os\n",
    "import pandas as pd\n",
    "import numpy as np\n",
    "import torch\n",
    "import random\n",
    "import matplotlib.pyplot as plt\n",
    "import torch\n",
    "import torch.nn as nn\n",
    "import torch.optim as optim\n",
    "import torch.nn.functional as F\n",
    "import re\n",
    "\n",
    "from eunjeon import Mecab\n",
    "from sklearn.model_selection import train_test_split\n",
    "from sklearn.preprocessing import LabelEncoder\n",
    "from sklearn.metrics import accuracy_score, recall_score, f1_score\n",
    "\n",
    "from tensorflow.keras.regularizers import l2\n",
    "from tensorflow.keras.callbacks import EarlyStopping\n",
    "from tensorflow.keras.models import Model\n",
    "from tensorflow.keras.layers import Embedding, Dropout, Conv1D, GlobalMaxPooling1D, Dense, Input, Flatten, Concatenate\n",
    "from tensorflow.keras.preprocessing.text import Tokenizer\n",
    "from tensorflow.keras.preprocessing.sequence import pad_sequences\n",
    "from tensorflow.keras.utils import to_categorical\n",
    "from tensorflow.keras.layers import LSTM, Bidirectional\n",
    "from gensim.models import Word2Vec\n",
    "\n",
    "plt.rc('font', family='Malgun Gothic')\n"
   ]
  },
  {
   "cell_type": "code",
   "execution_count": 2,
   "metadata": {},
   "outputs": [],
   "source": [
    "# Set random seed for reproducibility\n",
    "seed = 42\n",
    "torch.manual_seed(seed)\n",
    "torch.cuda.manual_seed(seed)\n",
    "torch.backends.cudnn.deterministic = True"
   ]
  },
  {
   "cell_type": "code",
   "execution_count": 3,
   "metadata": {},
   "outputs": [],
   "source": [
    "data_dir = '../analysis_files/files/'\n",
    "data_dir2 = '../analysis_files/word2vec/'\n",
    "device = torch.device('cuda' if torch.cuda.is_available() else 'cpu')\n",
    "\n",
    "# mecab 모델 다운로드\n",
    "tokenizer = Mecab()"
   ]
  },
  {
   "cell_type": "code",
   "execution_count": 4,
   "metadata": {},
   "outputs": [],
   "source": [
    "def text_clearing(text): \n",
    "    hangul = re.compile('[^ ㄱ-ㅣ가-힣]+')\n",
    "    result = hangul.sub('', text)\n",
    "    return result"
   ]
  },
  {
   "cell_type": "code",
   "execution_count": 5,
   "metadata": {},
   "outputs": [],
   "source": [
    "def load_dataset(data_dir):\n",
    "    df = pd.read_csv(os.path.join(data_dir, '감성대화말뭉치(최종데이터)_Validation_add.csv'), encoding='cp949')\n",
    "    df = df[['사람문장1', '감정_대분류']]\n",
    "\n",
    "    # NaN values and empty strings removal\n",
    "    df.dropna(subset=['사람문장1'], inplace=True)\n",
    "    df = df[df.astype(str).ne('').all(axis=1)]\n",
    "    df[\"사람문장1\"] = df[\"사람문장1\"].apply(lambda x : text_clearing(x))\n",
    "    \n",
    "    # Label encoding with custom mapping for emotions\n",
    "    emotion_mapping = {\n",
    "        '기쁨': '긍정', \n",
    "        '당황': '중립', \n",
    "        '분노': '부정',\n",
    "        '불안': '부정', \n",
    "        '상처': '부정', \n",
    "        '슬픔': '부정' \n",
    "    }\n",
    "    \n",
    "    df['긍/부정'] = df['감정_대분류'].map(emotion_mapping)\n",
    "    df = df[['사람문장1', '긍/부정']]\n",
    "    \n",
    "    # Label encoding\n",
    "    emotion_encoder = LabelEncoder()\n",
    "    df['pos'] = emotion_encoder.fit_transform(df['긍/부정'])\n",
    "    \n",
    "    # Create label mapping dictionaries\n",
    "    pos_mapping = dict(zip(emotion_encoder.classes_, emotion_encoder.transform(emotion_encoder.classes_)))\n",
    "    \n",
    "    # Data split\n",
    "    train_df, test_df = train_test_split(df, test_size=0.1, random_state=seed)\n",
    "    \n",
    "    return train_df, test_df, pos_mapping"
   ]
  },
  {
   "cell_type": "code",
   "execution_count": 6,
   "metadata": {},
   "outputs": [
    {
     "name": "stdout",
     "output_type": "stream",
     "text": [
      "Emotion Label Mapping:\n",
      "긍정: 0\n",
      "부정: 1\n",
      "중립: 2\n"
     ]
    }
   ],
   "source": [
    "train_df, test_df, pos_mapping = load_dataset(data_dir)\n",
    "\n",
    "# Print the label mappings\n",
    "print(\"Emotion Label Mapping:\")\n",
    "for pos, encoded_label in pos_mapping.items():\n",
    "    print(f\"{pos}: {encoded_label}\")"
   ]
  },
  {
   "cell_type": "code",
   "execution_count": 7,
   "metadata": {},
   "outputs": [
    {
     "data": {
      "text/html": [
       "<div>\n",
       "<style scoped>\n",
       "    .dataframe tbody tr th:only-of-type {\n",
       "        vertical-align: middle;\n",
       "    }\n",
       "\n",
       "    .dataframe tbody tr th {\n",
       "        vertical-align: top;\n",
       "    }\n",
       "\n",
       "    .dataframe thead th {\n",
       "        text-align: right;\n",
       "    }\n",
       "</style>\n",
       "<table border=\"1\" class=\"dataframe\">\n",
       "  <thead>\n",
       "    <tr style=\"text-align: right;\">\n",
       "      <th></th>\n",
       "      <th>사람문장1</th>\n",
       "      <th>긍/부정</th>\n",
       "      <th>pos</th>\n",
       "    </tr>\n",
       "  </thead>\n",
       "  <tbody>\n",
       "    <tr>\n",
       "      <th>5024</th>\n",
       "      <td>일이 너무 많아서 너무 힘들어</td>\n",
       "      <td>부정</td>\n",
       "      <td>1</td>\n",
       "    </tr>\n",
       "    <tr>\n",
       "      <th>5714</th>\n",
       "      <td>어제 경찰서에서 연락이 왔는데 친구가 우리 계비로 사기를 쳤나 봐 어떻게 이런 일이...</td>\n",
       "      <td>중립</td>\n",
       "      <td>2</td>\n",
       "    </tr>\n",
       "    <tr>\n",
       "      <th>2301</th>\n",
       "      <td>나는 탁구를 정말 좋아하는데 요즘 몸이 잘 따라주지 않아서 걱정이야</td>\n",
       "      <td>부정</td>\n",
       "      <td>1</td>\n",
       "    </tr>\n",
       "    <tr>\n",
       "      <th>11852</th>\n",
       "      <td>요즘 왜 이렇게 질투가 나는지 모르겠어</td>\n",
       "      <td>부정</td>\n",
       "      <td>1</td>\n",
       "    </tr>\n",
       "    <tr>\n",
       "      <th>2012</th>\n",
       "      <td>자식이 이제 대학교를 졸업해서 나한테 큰 지출은 없을 거 같아서 뿌듯하고 기뻐</td>\n",
       "      <td>긍정</td>\n",
       "      <td>0</td>\n",
       "    </tr>\n",
       "  </tbody>\n",
       "</table>\n",
       "</div>"
      ],
      "text/plain": [
       "                                                   사람문장1 긍/부정  pos\n",
       "5024                                    일이 너무 많아서 너무 힘들어   부정    1\n",
       "5714   어제 경찰서에서 연락이 왔는데 친구가 우리 계비로 사기를 쳤나 봐 어떻게 이런 일이...   중립    2\n",
       "2301               나는 탁구를 정말 좋아하는데 요즘 몸이 잘 따라주지 않아서 걱정이야   부정    1\n",
       "11852                              요즘 왜 이렇게 질투가 나는지 모르겠어   부정    1\n",
       "2012         자식이 이제 대학교를 졸업해서 나한테 큰 지출은 없을 거 같아서 뿌듯하고 기뻐   긍정    0"
      ]
     },
     "execution_count": 7,
     "metadata": {},
     "output_type": "execute_result"
    }
   ],
   "source": [
    "train_df.head()"
   ]
  },
  {
   "cell_type": "code",
   "execution_count": 8,
   "metadata": {},
   "outputs": [
    {
     "name": "stdout",
     "output_type": "stream",
     "text": [
      "훈련용 문장의 수 : 10753\n",
      "훈련용 감정레이블의 수 : 10753\n",
      "테스트용 문장의 수 : 1195\n",
      "테스트용 감정레이블의 수 : 1195\n"
     ]
    }
   ],
   "source": [
    "utterance_train = train_df['사람문장1'].tolist()\n",
    "label_emotion_train = train_df['pos'].tolist()\n",
    "utterance_test = test_df['사람문장1'].tolist()\n",
    "label_emotion_test = test_df['pos'].tolist()\n",
    "\n",
    "print('훈련용 문장의 수 :', len(utterance_train))\n",
    "print('훈련용 감정레이블의 수 :', len(label_emotion_train))\n",
    "print('테스트용 문장의 수 :', len(utterance_test))\n",
    "print('테스트용 감정레이블의 수 :', len(label_emotion_test))"
   ]
  },
  {
   "cell_type": "code",
   "execution_count": 9,
   "metadata": {},
   "outputs": [
    {
     "data": {
      "text/plain": [
       "<Axes: xlabel='긍/부정'>"
      ]
     },
     "execution_count": 9,
     "metadata": {},
     "output_type": "execute_result"
    },
    {
     "data": {
      "image/png": "[encoded data removed]",
      "text/plain": [
       "<Figure size 640x480 with 1 Axes>"
      ]
     },
     "metadata": {},
     "output_type": "display_data"
    }
   ],
   "source": [
    "train_df['긍/부정'].value_counts().plot(kind = 'bar')"
   ]
  },
  {
   "cell_type": "code",
   "execution_count": 10,
   "metadata": {},
   "outputs": [
    {
     "data": {
      "text/plain": [
       "<Axes: xlabel='긍/부정'>"
      ]
     },
     "execution_count": 10,
     "metadata": {},
     "output_type": "execute_result"
    },
    {
     "data": {
      "image/png": "[encoded data removed]",
      "text/plain": [
       "<Figure size 640x480 with 1 Axes>"
      ]
     },
     "metadata": {},
     "output_type": "display_data"
    }
   ],
   "source": [
    "test_df['긍/부정'].value_counts().plot(kind = 'bar')"
   ]
  },
  {
   "cell_type": "code",
   "execution_count": 11,
   "metadata": {},
   "outputs": [
    {
     "data": {
      "text/plain": [
       "[[62, 1, 225, 1, 48],\n",
       " [83, 3763, 240, 308, 8, 17, 8004, 783, 8005, 24, 55, 245, 62, 121],\n",
       " [14, 8006, 11, 2455, 9, 116, 20, 5017, 94, 63],\n",
       " [9, 59, 112, 531, 8007, 76],\n",
       " [635, 41, 5018, 5019, 67, 157, 5020, 428, 31, 35, 3764, 71]]"
      ]
     },
     "execution_count": 11,
     "metadata": {},
     "output_type": "execute_result"
    }
   ],
   "source": [
    "tokenizer = Tokenizer()\n",
    "tokenizer.fit_on_texts(train_df['사람문장1'].tolist())\n",
    "sequences_train = tokenizer.texts_to_sequences(train_df['사람문장1'].tolist())\n",
    "sequences_test = tokenizer.texts_to_sequences(test_df['사람문장1'].tolist())\n",
    "sequences_train[:5] # 상위 5개 샘플 출력"
   ]
  },
  {
   "cell_type": "code",
   "execution_count": 12,
   "metadata": {},
   "outputs": [
    {
     "name": "stdout",
     "output_type": "stream",
     "text": [
      "단어 집합(Vocabulary)의 크기 : 20718\n"
     ]
    }
   ],
   "source": [
    "word_index = tokenizer.word_index\n",
    "vocab_size = len(word_index) + 1\n",
    "print('단어 집합(Vocabulary)의 크기 :',vocab_size)"
   ]
  },
  {
   "cell_type": "code",
   "execution_count": 13,
   "metadata": {},
   "outputs": [
    {
     "name": "stdout",
     "output_type": "stream",
     "text": [
      "문장의 최대 길이 : 27\n",
      "문장의 평균 길이 : 9.497163582256114\n"
     ]
    },
    {
     "data": {
      "image/png": "[encoded data removed]",
      "text/plain": [
       "<Figure size 640x480 with 1 Axes>"
      ]
     },
     "metadata": {},
     "output_type": "display_data"
    }
   ],
   "source": [
    "print('문장의 최대 길이 :',max(len(l) for l in sequences_train))\n",
    "print('문장의 평균 길이 :',sum(map(len, sequences_train))/len(sequences_train))\n",
    "plt.hist([len(s) for s in sequences_train], bins=50)\n",
    "plt.xlabel('length of samples')\n",
    "plt.ylabel('number of samples')\n",
    "plt.show()"
   ]
  },
  {
   "cell_type": "code",
   "execution_count": 14,
   "metadata": {},
   "outputs": [
    {
     "name": "stdout",
     "output_type": "stream",
     "text": [
      "훈련 데이터의 크기(shape): (10753, 30)\n",
      "훈련 데이터 감정레이블의 크기(shape): (10753, 3)\n"
     ]
    }
   ],
   "source": [
    "max_len = 30\n",
    "\n",
    "utterance_train = pad_sequences(sequences_train, maxlen=max_len)\n",
    "utterance_test = pad_sequences(sequences_test, maxlen=max_len)\n",
    "\n",
    "label_emotion_train = to_categorical(train_df['pos'])\n",
    "label_emotion_test = to_categorical(test_df['pos'])\n",
    "\n",
    "print('훈련 데이터의 크기(shape):', utterance_train.shape)\n",
    "print('훈련 데이터 감정레이블의 크기(shape):', label_emotion_train.shape)"
   ]
  },
  {
   "cell_type": "code",
   "execution_count": 15,
   "metadata": {},
   "outputs": [
    {
     "name": "stdout",
     "output_type": "stream",
     "text": [
      "훈련 데이터의 첫번째 샘플 : [  0   0   0   0   0   0   0   0   0   0   0   0   0   0   0   0   0   0\n",
      "   0   0   0   0   0   0   0  62   1 225   1  48]\n",
      "훈련 데이터의 첫번째 샘플의 감정레이블 : [0. 1. 0.]\n"
     ]
    }
   ],
   "source": [
    "print('훈련 데이터의 첫번째 샘플 :',utterance_train[0])\n",
    "print('훈련 데이터의 첫번째 샘플의 감정레이블 :',label_emotion_train[0])"
   ]
  },
  {
   "cell_type": "code",
   "execution_count": 16,
   "metadata": {},
   "outputs": [
    {
     "name": "stdout",
     "output_type": "stream",
     "text": [
      "랜덤 시퀀스 : [2667 3086 9056 ... 8097 2520 4720]\n"
     ]
    }
   ],
   "source": [
    "indices_train = np.arange(utterance_train.shape[0])\n",
    "np.random.shuffle(indices_train)\n",
    "print('랜덤 시퀀스 :',indices_train)\n",
    "\n",
    "indices_test = np.arange(utterance_test.shape[0])\n",
    "np.random.shuffle(indices_test)"
   ]
  },
  {
   "cell_type": "code",
   "execution_count": 17,
   "metadata": {},
   "outputs": [],
   "source": [
    "X_train = utterance_train[indices_train]\n",
    "y_emotion_train = label_emotion_train[indices_train]\n",
    "\n",
    "X_test = utterance_test[indices_test]\n",
    "y_emotion_test = label_emotion_test[indices_test]"
   ]
  },
  {
   "cell_type": "code",
   "execution_count": 18,
   "metadata": {},
   "outputs": [],
   "source": [
    "embedding_dict = dict()\n",
    "# 사전 훈련된 Word2Vec 모델을 로드\n",
    "model = Word2Vec.load(os.path.join(data_dir2, 'ko.bin'))"
   ]
  },
  {
   "cell_type": "code",
   "execution_count": 19,
   "metadata": {},
   "outputs": [
    {
     "name": "stdout",
     "output_type": "stream",
     "text": [
      "30185개의 Embedding vector가 있습니다.\n"
     ]
    }
   ],
   "source": [
    "for word in model.wv.vocab:\n",
    "    embedding_dict[word] = model.wv[word]\n",
    "    \n",
    "print('%s개의 Embedding vector가 있습니다.' % len(embedding_dict))"
   ]
  },
  {
   "cell_type": "code",
   "execution_count": 20,
   "metadata": {},
   "outputs": [
    {
     "name": "stdout",
     "output_type": "stream",
     "text": [
      "[-1.21498978e+00 -5.43866694e-01  1.32688725e+00 -6.49432898e-01\n",
      " -4.38877225e-01  5.52123845e-01  4.83556360e-01  1.02437699e+00\n",
      " -2.07902670e-01  1.21977139e+00 -5.29723316e-02  2.83519924e-01\n",
      "  3.75814110e-01  6.29925787e-01 -5.16617894e-01 -2.62273163e-01\n",
      " -1.77138105e-01  7.17207134e-01  1.64666355e-01 -1.71311915e-01\n",
      "  5.11819899e-01  4.22978140e-02  2.26164639e-01  7.59881958e-02\n",
      "  3.07586491e-01  6.97090849e-02 -4.44131732e-01  9.51295376e-01\n",
      " -9.61420715e-01 -3.31237733e-01  3.33495051e-01 -2.93511562e-02\n",
      "  4.39231545e-01  2.65127450e-01 -3.65351290e-01 -7.63717890e-01\n",
      "  7.36222565e-02 -9.49564651e-02  2.45211333e-01  6.11337125e-01\n",
      " -1.75878897e-01  6.61108434e-01  1.19337216e-02 -8.98760736e-01\n",
      "  9.82642323e-02  5.10104120e-01 -3.21627408e-01  2.17479408e-01\n",
      "  3.48298520e-01  1.51318341e-01 -2.26444125e-01  3.23872238e-01\n",
      " -6.18719637e-01  9.16367769e-01 -7.72069275e-01 -2.47000799e-01\n",
      " -4.40212220e-01  1.47606462e-01  2.45241672e-01  6.81707561e-01\n",
      " -1.40714899e-01  3.91073883e-01  5.01544848e-02  2.52563149e-01\n",
      "  1.13674058e-02 -3.54860127e-01  1.77441016e-01  5.13799969e-05\n",
      "  8.28689516e-01 -6.87757194e-01 -1.42891631e-01 -6.24541700e-01\n",
      "  4.57952544e-02 -3.81644636e-01 -2.97486097e-01 -5.24748802e-01\n",
      "  3.73561531e-01  1.52763203e-01 -3.72797936e-01 -3.81454170e-01\n",
      " -7.79864311e-01 -1.51068068e+00  8.67638409e-01 -3.11312288e-01\n",
      " -7.80285954e-01 -2.39641994e-01 -4.67136919e-01  1.81962654e-01\n",
      " -8.36277425e-01  6.07094288e-01  1.01539457e+00 -6.08014703e-01\n",
      "  6.33768618e-01 -3.33503574e-01  2.05815196e-01 -4.15049613e-01\n",
      " -1.16501749e+00 -7.92210042e-01  9.02202189e-01  5.90920031e-01\n",
      "  1.30775645e-01 -1.13494217e+00 -2.83240527e-01 -9.02395725e-01\n",
      " -6.64807320e-01  2.42483363e-01 -1.11278617e+00  7.12387860e-01\n",
      " -1.21656907e+00 -6.28343821e-01  5.23963690e-01  4.99666855e-02\n",
      "  1.50805831e-01 -1.38098633e+00 -8.80626775e-03  9.84430134e-01\n",
      "  2.98814327e-01 -6.74968421e-01  4.59986448e-01  8.27621073e-02\n",
      "  1.19693324e-01 -4.09995377e-01  2.35763580e-01  1.57288730e-01\n",
      "  3.24234039e-01  1.18588459e+00 -1.03629458e+00 -9.06577826e-01\n",
      " -2.51714706e-01 -2.94798017e-01 -6.77916169e-01  1.17743097e-01\n",
      "  7.66229272e-01 -1.82938918e-01  5.22433519e-01 -5.09891093e-01\n",
      "  3.52856457e-01  3.10503483e-01  2.07715005e-01 -7.20104337e-01\n",
      " -7.30376467e-02  1.13494015e+00  1.29778311e-01 -1.74500659e-01\n",
      " -1.15637690e-01  3.05515558e-01 -8.56122077e-01 -1.69953540e-01\n",
      " -2.14812346e-02  3.38531494e-01 -3.32267694e-02 -4.57545459e-01\n",
      "  9.90230516e-02 -3.59620333e-01 -8.56615067e-01  2.36271750e-02\n",
      " -1.24600582e-01  1.01010299e+00  3.69404137e-01 -4.49339077e-02\n",
      " -2.05804870e-01  6.43577635e-01 -3.74060380e-03 -4.00851429e-01\n",
      " -3.81164193e-01 -7.07839191e-01  1.70945510e-01  8.40309918e-01\n",
      " -6.86021805e-01  6.98043525e-01 -2.51565069e-01 -4.42376465e-01\n",
      "  6.26746535e-01 -4.13396835e-01  4.66333598e-01 -6.39425814e-01\n",
      " -2.19895363e-01  7.36146569e-01  7.23663926e-01 -4.44941729e-01\n",
      " -1.45601109e-01 -2.12656513e-01  9.57415625e-02  2.84639508e-01\n",
      " -6.63796127e-01  4.18167382e-01  1.88101307e-01  9.80907977e-01\n",
      " -6.67309225e-01  8.13428283e-01 -1.70776136e-02 -2.74063706e-01\n",
      " -2.01226342e-02 -9.82061565e-01  3.04205686e-01 -3.43467325e-01\n",
      "  4.35411870e-01  1.89904273e-02  3.95187825e-01 -7.71242201e-01]\n",
      "200\n"
     ]
    }
   ],
   "source": [
    "print(embedding_dict['우울'])\n",
    "print(len(embedding_dict['우울']))"
   ]
  },
  {
   "cell_type": "code",
   "execution_count": 21,
   "metadata": {},
   "outputs": [
    {
     "name": "stdout",
     "output_type": "stream",
     "text": [
      "임베딩 테이블의 크기(shape) : (20718, 200)\n"
     ]
    }
   ],
   "source": [
    "embedding_dim = 200\n",
    "embedding_matrix = np.zeros((vocab_size, embedding_dim))\n",
    "print('임베딩 테이블의 크기(shape) :',np.shape(embedding_matrix))\n"
   ]
  },
  {
   "cell_type": "code",
   "execution_count": 22,
   "metadata": {},
   "outputs": [],
   "source": [
    "for word, i in word_index.items():\n",
    "    embedding_vector = embedding_dict.get(word)\n",
    "    if embedding_vector is not None:\n",
    "        embedding_matrix[i] = embedding_vector"
   ]
  },
  {
   "cell_type": "code",
   "execution_count": 23,
   "metadata": {},
   "outputs": [],
   "source": [
    "kernel_sizes = [2, 3, 5]\n",
    "num_filters = 512\n",
    "dropout_ratio = 0.5\n",
    "\n",
    "model_input = Input(shape=(max_len,))\n",
    "output = Embedding(vocab_size, embedding_dim, weights=[embedding_matrix],\n",
    "                      input_length=max_len, trainable=False)(model_input)\n",
    "\n",
    "conv_blocks = []\n",
    "\n",
    "for size in kernel_sizes:\n",
    "    conv = Conv1D(filters=num_filters,\n",
    "                         kernel_size=size,\n",
    "                         padding=\"valid\",\n",
    "                         activation=\"relu\",\n",
    "                         strides=1)(output)\n",
    "    conv = GlobalMaxPooling1D()(conv)\n",
    "    conv_blocks.append(conv)\n",
    "\n",
    "output = Concatenate()(conv_blocks) if len(conv_blocks) > 1 else conv_blocks[0]\n",
    "output = Dropout(dropout_ratio)(output)\n",
    "\n"
   ]
  },
  {
   "cell_type": "code",
   "execution_count": 24,
   "metadata": {},
   "outputs": [
    {
     "name": "stdout",
     "output_type": "stream",
     "text": [
      "Model: \"model\"\n",
      "__________________________________________________________________________________________________\n",
      " Layer (type)                Output Shape                 Param #   Connected to                  \n",
      "==================================================================================================\n",
      " input_1 (InputLayer)        [(None, 30)]                 0         []                            \n",
      "                                                                                                  \n",
      " embedding (Embedding)       (None, 30, 200)              4143600   ['input_1[0][0]']             \n",
      "                                                                                                  \n",
      " conv1d (Conv1D)             (None, 29, 512)              205312    ['embedding[0][0]']           \n",
      "                                                                                                  \n",
      " conv1d_1 (Conv1D)           (None, 28, 512)              307712    ['embedding[0][0]']           \n",
      "                                                                                                  \n",
      " conv1d_2 (Conv1D)           (None, 26, 512)              512512    ['embedding[0][0]']           \n",
      "                                                                                                  \n",
      " global_max_pooling1d (Glob  (None, 512)                  0         ['conv1d[0][0]']              \n",
      " alMaxPooling1D)                                                                                  \n",
      "                                                                                                  \n",
      " global_max_pooling1d_1 (Gl  (None, 512)                  0         ['conv1d_1[0][0]']            \n",
      " obalMaxPooling1D)                                                                                \n",
      "                                                                                                  \n",
      " global_max_pooling1d_2 (Gl  (None, 512)                  0         ['conv1d_2[0][0]']            \n",
      " obalMaxPooling1D)                                                                                \n",
      "                                                                                                  \n",
      " concatenate (Concatenate)   (None, 1536)                 0         ['global_max_pooling1d[0][0]',\n",
      "                                                                     'global_max_pooling1d_1[0][0]\n",
      "                                                                    ',                            \n",
      "                                                                     'global_max_pooling1d_2[0][0]\n",
      "                                                                    ']                            \n",
      "                                                                                                  \n",
      " dropout (Dropout)           (None, 1536)                 0         ['concatenate[0][0]']         \n",
      "                                                                                                  \n",
      " dense (Dense)               (None, 3)                    4611      ['dropout[0][0]']             \n",
      "                                                                                                  \n",
      "==================================================================================================\n",
      "Total params: 5173747 (19.74 MB)\n",
      "Trainable params: 1030147 (3.93 MB)\n",
      "Non-trainable params: 4143600 (15.81 MB)\n",
      "__________________________________________________________________________________________________\n",
      "Epoch 1/10\n",
      "337/337 [==============================] - 6s 16ms/step - loss: 1.2271 - acc: 0.5861 - val_loss: 1.0247 - val_acc: 0.6628\n",
      "Epoch 2/10\n",
      "337/337 [==============================] - 6s 16ms/step - loss: 0.9120 - acc: 0.6419 - val_loss: 0.8927 - val_acc: 0.6167\n",
      "Epoch 3/10\n",
      "337/337 [==============================] - 5s 16ms/step - loss: 0.8428 - acc: 0.6568 - val_loss: 0.8844 - val_acc: 0.6770\n",
      "Epoch 4/10\n",
      "337/337 [==============================] - 5s 16ms/step - loss: 0.8112 - acc: 0.6698 - val_loss: 0.9523 - val_acc: 0.6385\n",
      "Epoch 5/10\n",
      "337/337 [==============================] - 5s 16ms/step - loss: 0.7916 - acc: 0.6792 - val_loss: 0.9822 - val_acc: 0.6452\n",
      "Epoch 6/10\n",
      "337/337 [==============================] - 6s 16ms/step - loss: 0.7947 - acc: 0.6807 - val_loss: 0.9913 - val_acc: 0.6686\n",
      "Epoch 7/10\n",
      "337/337 [==============================] - 5s 16ms/step - loss: 0.8330 - acc: 0.6807 - val_loss: 1.0457 - val_acc: 0.6686\n",
      "Epoch 8/10\n",
      "337/337 [==============================] - 5s 16ms/step - loss: 0.7616 - acc: 0.6971 - val_loss: 0.9188 - val_acc: 0.6134\n",
      "Epoch 9/10\n",
      "337/337 [==============================] - 5s 16ms/step - loss: 0.7294 - acc: 0.7059 - val_loss: 0.9201 - val_acc: 0.6351\n",
      "Epoch 10/10\n",
      "337/337 [==============================] - 5s 16ms/step - loss: 0.7254 - acc: 0.7087 - val_loss: 0.9674 - val_acc: 0.6510\n"
     ]
    }
   ],
   "source": [
    "# Emotion classification model\n",
    "num_emotion_classes = len(pos_mapping)\n",
    "model_output_emotion = Dense(num_emotion_classes, activation='softmax')(output)\n",
    "model_emotion = Model(model_input, model_output_emotion)\n",
    "\n",
    "model_emotion.compile(loss='categorical_crossentropy', optimizer='adam', metrics=['acc'])\n",
    "model_emotion.summary()\n",
    "\n",
    "history_emotion = model_emotion.fit(X_train, y_emotion_train,\n",
    "                                    batch_size=32,\n",
    "                                    epochs=10,\n",
    "                                    validation_data=(X_test, y_emotion_test))"
   ]
  },
  {
   "cell_type": "code",
   "execution_count": 25,
   "metadata": {},
   "outputs": [
    {
     "data": {
      "image/png": "[encoded data removed]",
      "text/plain": [
       "<Figure size 640x480 with 1 Axes>"
      ]
     },
     "metadata": {},
     "output_type": "display_data"
    },
    {
     "data": {
      "image/png": "[encoded data removed]",
      "text/plain": [
       "<Figure size 640x480 with 1 Axes>"
      ]
     },
     "metadata": {},
     "output_type": "display_data"
    }
   ],
   "source": [
    "# Plot accuracy and loss graphs for emotion classification\n",
    "epochs = range(1, len(history_emotion.history['acc']) + 1)\n",
    "plt.plot(epochs, history_emotion.history['acc'])\n",
    "plt.plot(epochs, history_emotion.history['val_acc'])\n",
    "plt.title('Emotion Model Accuracy')\n",
    "plt.ylabel('Accuracy')\n",
    "plt.xlabel('Epochs')\n",
    "plt.legend(['train', 'test'], loc='lower right')\n",
    "plt.show()\n",
    "\n",
    "epochs = range(1, len(history_emotion.history['loss']) + 1)\n",
    "plt.plot(epochs, history_emotion.history['loss'])\n",
    "plt.plot(epochs, history_emotion.history['val_loss'])\n",
    "plt.title('Emotion Model Loss')\n",
    "plt.ylabel('Loss')\n",
    "plt.xlabel('Epochs')\n",
    "plt.legend(['train', 'test'], loc='upper right')\n",
    "plt.show()\n"
   ]
  },
  {
   "cell_type": "code",
   "execution_count": null,
   "metadata": {},
   "outputs": [],
   "source": []
  }
 ],
 "metadata": {
  "kernelspec": {
   "display_name": "torch_gpu",
   "language": "python",
   "name": "torch"
  },
  "language_info": {
   "codemirror_mode": {
    "name": "ipython",
    "version": 3
   },
   "file_extension": ".py",
   "mimetype": "text/x-python",
   "name": "python",
   "nbconvert_exporter": "python",
   "pygments_lexer": "ipython3",
   "version": "3.8.17"
  },
  "orig_nbformat": 4
 },
 "nbformat": 4,
 "nbformat_minor": 2
}
