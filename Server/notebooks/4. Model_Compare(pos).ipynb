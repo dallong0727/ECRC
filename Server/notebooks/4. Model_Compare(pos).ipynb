{
 "cells": [
  {
   "cell_type": "code",
   "execution_count": 9,
   "metadata": {},
   "outputs": [],
   "source": [
    "import os\n",
    "import pandas as pd\n",
    "import numpy as np\n",
    "import torch\n",
    "import random\n",
    "import re\n",
    "import matplotlib.pyplot as plt\n",
    "import torch\n",
    "import torch.nn as nn\n",
    "import torch.optim as optim\n",
    "import torch.nn.functional as F\n",
    "\n",
    "from eunjeon import Mecab\n",
    "from sklearn.model_selection import train_test_split\n",
    "from sklearn.preprocessing import LabelEncoder\n",
    "from sklearn.metrics import accuracy_score, recall_score, f1_score\n",
    "\n",
    "from tensorflow.keras.regularizers import l2\n",
    "from tensorflow.keras.callbacks import EarlyStopping\n",
    "from tensorflow.keras.models import Model\n",
    "from tensorflow.keras.layers import Embedding, Dropout, Conv1D, GlobalMaxPooling1D, Dense, Input, Flatten, Concatenate\n",
    "from tensorflow.keras.preprocessing.text import Tokenizer\n",
    "from tensorflow.keras.preprocessing.sequence import pad_sequences\n",
    "from tensorflow.keras.utils import to_categorical\n",
    "from tensorflow.keras.layers import LSTM, Bidirectional\n",
    "from gensim.models import Word2Vec\n",
    "\n",
    "plt.rc('font', family='Malgun Gothic')\n"
   ]
  },
  {
   "cell_type": "code",
   "execution_count": 10,
   "metadata": {},
   "outputs": [],
   "source": [
    "# Set random seed for reproducibility\n",
    "seed = 42\n",
    "torch.manual_seed(seed)\n",
    "torch.cuda.manual_seed(seed)\n",
    "torch.backends.cudnn.deterministic = True"
   ]
  },
  {
   "cell_type": "code",
   "execution_count": 14,
   "metadata": {},
   "outputs": [],
   "source": [
    "data_dir = '../analysis_files/files/'\n",
    "data_dir2 = '../analysis_files/word2vec/'\n",
    "device = torch.device('cuda' if torch.cuda.is_available() else 'cpu')\n",
    "\n",
    "# mecab 모델 다운로드\n",
    "tokenizer = Mecab()"
   ]
  },
  {
   "cell_type": "code",
   "execution_count": 15,
   "metadata": {},
   "outputs": [],
   "source": [
    "def text_clearing(text): \n",
    "    hangul = re.compile('[^ ㄱ-ㅣ가-힣]+')\n",
    "    result = hangul.sub('', text)\n",
    "    return result"
   ]
  },
  {
   "cell_type": "code",
   "execution_count": 16,
   "metadata": {},
   "outputs": [],
   "source": [
    "def load_dataset(data_dir):\n",
    "    df = pd.read_csv(os.path.join(data_dir, 'review_data.csv'))\n",
    "    df = df[['review', 'y']]\n",
    "    df[\"review\"] = df[\"review\"].apply(lambda x : text_clearing(x))\n",
    "    \n",
    "    # Data split\n",
    "    train_df, test_df = train_test_split(df, test_size=0.1, random_state=seed)\n",
    "    \n",
    "    return train_df, test_df"
   ]
  },
  {
   "cell_type": "code",
   "execution_count": 17,
   "metadata": {},
   "outputs": [],
   "source": [
    "train_df, test_df = load_dataset(data_dir)"
   ]
  },
  {
   "cell_type": "code",
   "execution_count": 18,
   "metadata": {},
   "outputs": [
    {
     "data": {
      "text/html": [
       "<div>\n",
       "<style scoped>\n",
       "    .dataframe tbody tr th:only-of-type {\n",
       "        vertical-align: middle;\n",
       "    }\n",
       "\n",
       "    .dataframe tbody tr th {\n",
       "        vertical-align: top;\n",
       "    }\n",
       "\n",
       "    .dataframe thead th {\n",
       "        text-align: right;\n",
       "    }\n",
       "</style>\n",
       "<table border=\"1\" class=\"dataframe\">\n",
       "  <thead>\n",
       "    <tr style=\"text-align: right;\">\n",
       "      <th></th>\n",
       "      <th>review</th>\n",
       "      <th>y</th>\n",
       "    </tr>\n",
       "  </thead>\n",
       "  <tbody>\n",
       "    <tr>\n",
       "      <th>543</th>\n",
       "      <td>친절하게 서빙해주시고 음식도 챙겨주셨어요 ㅎ</td>\n",
       "      <td>1</td>\n",
       "    </tr>\n",
       "    <tr>\n",
       "      <th>9</th>\n",
       "      <td>저렴하면서도 맛이 아주 좋았습니다구워주시는 서버분들의 정성이 고기 한점 한점에 깃들...</td>\n",
       "      <td>1</td>\n",
       "    </tr>\n",
       "    <tr>\n",
       "      <th>533</th>\n",
       "      <td>질좋은 한우를 이 가격에곁들이는 반찬도 와인도넘 좋아요</td>\n",
       "      <td>1</td>\n",
       "    </tr>\n",
       "    <tr>\n",
       "      <th>274</th>\n",
       "      <td>이렇게 맛있는 고기는 오랜만이네요 강남에서 이만한 고기를 이가격에 먹을 수 있는곳은...</td>\n",
       "      <td>1</td>\n",
       "    </tr>\n",
       "    <tr>\n",
       "      <th>465</th>\n",
       "      <td>맛있었어요</td>\n",
       "      <td>1</td>\n",
       "    </tr>\n",
       "  </tbody>\n",
       "</table>\n",
       "</div>"
      ],
      "text/plain": [
       "                                                review  y\n",
       "543                           친절하게 서빙해주시고 음식도 챙겨주셨어요 ㅎ  1\n",
       "9    저렴하면서도 맛이 아주 좋았습니다구워주시는 서버분들의 정성이 고기 한점 한점에 깃들...  1\n",
       "533                     질좋은 한우를 이 가격에곁들이는 반찬도 와인도넘 좋아요  1\n",
       "274  이렇게 맛있는 고기는 오랜만이네요 강남에서 이만한 고기를 이가격에 먹을 수 있는곳은...  1\n",
       "465                                              맛있었어요  1"
      ]
     },
     "execution_count": 18,
     "metadata": {},
     "output_type": "execute_result"
    }
   ],
   "source": [
    "train_df.head()"
   ]
  },
  {
   "cell_type": "code",
   "execution_count": 20,
   "metadata": {},
   "outputs": [
    {
     "name": "stdout",
     "output_type": "stream",
     "text": [
      "훈련용 문장의 수 : 490\n",
      "훈련용 감정레이블의 수 : 490\n",
      "테스트용 문장의 수 : 55\n",
      "테스트용 감정레이블의 수 : 55\n"
     ]
    }
   ],
   "source": [
    "utterance_train = train_df['review'].tolist()\n",
    "label_pos_train = train_df['y'].tolist()\n",
    "\n",
    "utterance_test = test_df['review'].tolist()\n",
    "label_pos_test = test_df['y'].tolist()\n",
    "\n",
    "print('훈련용 문장의 수 :', len(utterance_train))\n",
    "print('훈련용 감정레이블의 수 :', len(label_pos_train))\n",
    "print('테스트용 문장의 수 :', len(utterance_test))\n",
    "print('테스트용 감정레이블의 수 :', len(label_pos_test))"
   ]
  },
  {
   "cell_type": "code",
   "execution_count": 22,
   "metadata": {},
   "outputs": [
    {
     "data": {
      "text/plain": [
       "<Axes: xlabel='y'>"
      ]
     },
     "execution_count": 22,
     "metadata": {},
     "output_type": "execute_result"
    },
    {
     "data": {
      "image/png": "[encoded data removed]",
      "text/plain": [
       "<Figure size 640x480 with 1 Axes>"
      ]
     },
     "metadata": {},
     "output_type": "display_data"
    }
   ],
   "source": [
    "train_df['y'].value_counts().plot(kind = 'bar')"
   ]
  },
  {
   "cell_type": "code",
   "execution_count": 23,
   "metadata": {},
   "outputs": [
    {
     "data": {
      "text/plain": [
       "<Axes: xlabel='y'>"
      ]
     },
     "execution_count": 23,
     "metadata": {},
     "output_type": "execute_result"
    },
    {
     "data": {
      "image/png": "[encoded data removed]",
      "text/plain": [
       "<Figure size 640x480 with 1 Axes>"
      ]
     },
     "metadata": {},
     "output_type": "display_data"
    }
   ],
   "source": [
    "test_df['y'].value_counts().plot(kind = 'bar')"
   ]
  },
  {
   "cell_type": "code",
   "execution_count": 24,
   "metadata": {},
   "outputs": [
    {
     "data": {
      "text/plain": [
       "[[66, 567, 28, 568, 139],\n",
       " [569,\n",
       "  29,\n",
       "  39,\n",
       "  570,\n",
       "  571,\n",
       "  572,\n",
       "  9,\n",
       "  140,\n",
       "  573,\n",
       "  574,\n",
       "  141,\n",
       "  575,\n",
       "  576,\n",
       "  577,\n",
       "  21,\n",
       "  578,\n",
       "  579,\n",
       "  580,\n",
       "  581,\n",
       "  582,\n",
       "  105,\n",
       "  208,\n",
       "  209,\n",
       "  583,\n",
       "  584,\n",
       "  585,\n",
       "  586,\n",
       "  587,\n",
       "  588,\n",
       "  589],\n",
       " [590, 591, 106, 592, 107, 593, 40],\n",
       " [108,\n",
       "  43,\n",
       "  47,\n",
       "  594,\n",
       "  142,\n",
       "  314,\n",
       "  67,\n",
       "  595,\n",
       "  143,\n",
       "  33,\n",
       "  596,\n",
       "  597,\n",
       "  598,\n",
       "  599,\n",
       "  600,\n",
       "  105,\n",
       "  315,\n",
       "  601,\n",
       "  7,\n",
       "  8,\n",
       "  59,\n",
       "  602,\n",
       "  316,\n",
       "  33,\n",
       "  144,\n",
       "  16,\n",
       "  68,\n",
       "  603,\n",
       "  48,\n",
       "  109,\n",
       "  11,\n",
       "  604,\n",
       "  605,\n",
       "  606,\n",
       "  317,\n",
       "  607,\n",
       "  318,\n",
       "  44,\n",
       "  69,\n",
       "  608,\n",
       "  319],\n",
       " [15]]"
      ]
     },
     "execution_count": 24,
     "metadata": {},
     "output_type": "execute_result"
    }
   ],
   "source": [
    "tokenizer = Tokenizer()\n",
    "tokenizer.fit_on_texts(train_df['review'].tolist())\n",
    "sequences_train = tokenizer.texts_to_sequences(train_df['review'].tolist())\n",
    "sequences_test = tokenizer.texts_to_sequences(test_df['review'].tolist())\n",
    "sequences_train[:5] # 상위 5개 샘플 출력"
   ]
  },
  {
   "cell_type": "code",
   "execution_count": 25,
   "metadata": {},
   "outputs": [
    {
     "name": "stdout",
     "output_type": "stream",
     "text": [
      "단어 집합(Vocabulary)의 크기 : 3424\n"
     ]
    }
   ],
   "source": [
    "word_index = tokenizer.word_index\n",
    "vocab_size = len(word_index) + 1\n",
    "print('단어 집합(Vocabulary)의 크기 :',vocab_size)"
   ]
  },
  {
   "cell_type": "code",
   "execution_count": 26,
   "metadata": {},
   "outputs": [
    {
     "name": "stdout",
     "output_type": "stream",
     "text": [
      "문장의 최대 길이 : 79\n",
      "문장의 평균 길이 : 11.410204081632653\n"
     ]
    },
    {
     "data": {
      "image/png": "[encoded data removed]",
      "text/plain": [
       "<Figure size 640x480 with 1 Axes>"
      ]
     },
     "metadata": {},
     "output_type": "display_data"
    }
   ],
   "source": [
    "print('문장의 최대 길이 :',max(len(l) for l in sequences_train))\n",
    "print('문장의 평균 길이 :',sum(map(len, sequences_train))/len(sequences_train))\n",
    "plt.hist([len(s) for s in sequences_train], bins=50)\n",
    "plt.xlabel('length of samples')\n",
    "plt.ylabel('number of samples')\n",
    "plt.show()"
   ]
  },
  {
   "cell_type": "code",
   "execution_count": 27,
   "metadata": {},
   "outputs": [
    {
     "name": "stdout",
     "output_type": "stream",
     "text": [
      "훈련 데이터의 크기(shape): (490, 80)\n",
      "훈련 데이터 감정레이블의 크기(shape): (490, 2)\n"
     ]
    }
   ],
   "source": [
    "max_len = 80\n",
    "\n",
    "utterance_train = pad_sequences(sequences_train, maxlen=max_len)\n",
    "utterance_test = pad_sequences(sequences_test, maxlen=max_len)\n",
    "\n",
    "label_pos_train = to_categorical(train_df['y'])\n",
    "label_pos_test = to_categorical(test_df['y'])\n",
    "\n",
    "\n",
    "print('훈련 데이터의 크기(shape):', utterance_train.shape)\n",
    "print('훈련 데이터 감정레이블의 크기(shape):', label_pos_train.shape)"
   ]
  },
  {
   "cell_type": "code",
   "execution_count": 28,
   "metadata": {},
   "outputs": [
    {
     "name": "stdout",
     "output_type": "stream",
     "text": [
      "훈련 데이터의 첫번째 샘플 : [  0   0   0   0   0   0   0   0   0   0   0   0   0   0   0   0   0   0\n",
      "   0   0   0   0   0   0   0   0   0   0   0   0   0   0   0   0   0   0\n",
      "   0   0   0   0   0   0   0   0   0   0   0   0   0   0   0   0   0   0\n",
      "   0   0   0   0   0   0   0   0   0   0   0   0   0   0   0   0   0   0\n",
      "   0   0   0  66 567  28 568 139]\n",
      "훈련 데이터의 첫번째 샘플의 감정레이블 : [0. 1.]\n"
     ]
    }
   ],
   "source": [
    "print('훈련 데이터의 첫번째 샘플 :',utterance_train[0])\n",
    "print('훈련 데이터의 첫번째 샘플의 감정레이블 :',label_pos_train[0])"
   ]
  },
  {
   "cell_type": "code",
   "execution_count": 30,
   "metadata": {},
   "outputs": [
    {
     "name": "stdout",
     "output_type": "stream",
     "text": [
      "랜덤 시퀀스 : [ 86  29  92 316 409 223 414  20 239 426 141 308  84 145 379 209 489 413\n",
      " 257  62 265 445 221   7 241 121 375  17 157 451  19 442 420  26 275 332\n",
      " 183  96 485 115 399 479 286 320 203 400 317 208 350 272 153 289  21 245\n",
      " 327 135 376 252 311 365 468 184 167 127 471  52 449 273 419 482 274 149\n",
      " 306  54 199 457 132 315 222 450 102 454  46 230 415 411 470 478 293 182\n",
      " 277 147 198 389  61  45 339  22  59 304 224 464 324 463  63 336  98 428\n",
      " 412 171 416 267 421 446 195 116 244  11 418 422 340 406  10  43  58 186\n",
      " 163  25   6  88  27  53 403 328 120 134 349  60 473 144 436 285 452 155\n",
      " 358 374 152  97 353 288 486 326  74  36 176 250  31 488 360 427  72 405\n",
      " 361  48 220 387 129  87 385 312 251 259 440 164 462 119  79  41 106 466\n",
      " 217 423 123 483  49 280 185 334  16  80 309  35  89 133  34 126  82 329\n",
      " 455 227 191  40 384 150 125 487 373 122 300  66 438 435 218  99 197  83\n",
      " 394 111 206 202   1  68 269 476 484 137 356  55 475  32   4 242 276 253\n",
      " 380 228 333 407 439 323 256 347 248  51 354 193 165 357 172 207  39 472\n",
      " 460 393 469 210 292 139  47 448 205 434 109 247 160 235 254 151  33 107\n",
      " 240 173  56 352 444   9 140 433 458 196 297  15 192 231 299 200 113 246\n",
      " 156 190 161 258 188 234 401 383 310 382 229 261 262 287 348 351 307  67\n",
      " 319  65 169 174 281 204 189 146 178 112 114  13   5  37 424  30   3  70\n",
      " 388 168 268 335 181 474 249 447 459 302 344 467 477 124 284  93 425  42\n",
      " 362 367 266 325 480  95 179 378  91 402 118 364 142 166 391 369 431 105\n",
      " 461 162 243 138   2 396 101  69 294 313  76 432 290 363  73 108 345 377\n",
      " 337 417 314 214 175 213 117 318 430 110 278 270 392 370 283 237 305 291\n",
      " 170 395 201 355 263 366 158 236 404  24 296 180 271 338 255 148 381 136\n",
      " 295 322  23 212 408 216 130 159 330  85 368 301 128 410  78 103 303 233\n",
      "  44 232 211 331 371 131  38 219 298 429  81 154 187 386  57 453  28 215\n",
      "  18   8 177 359 437 143  12 341 346 282 342 225  75 465 226 397 100  90\n",
      "  64 372 194 398  77 441 443  94 456 260 481 238 279  14 264 321  71 104\n",
      " 390   0 343  50]\n"
     ]
    }
   ],
   "source": [
    "indices_train = np.arange(utterance_train.shape[0])\n",
    "np.random.shuffle(indices_train)\n",
    "print('랜덤 시퀀스 :',indices_train)\n",
    "\n",
    "indices_test = np.arange(utterance_test.shape[0])\n",
    "np.random.shuffle(indices_test)"
   ]
  },
  {
   "cell_type": "code",
   "execution_count": 31,
   "metadata": {},
   "outputs": [],
   "source": [
    "X_train = utterance_train[indices_train]\n",
    "y_pos_train = label_pos_train[indices_train]\n",
    "\n",
    "X_test = utterance_test[indices_test]\n",
    "y_pos_test = label_pos_test[indices_test]"
   ]
  },
  {
   "cell_type": "code",
   "execution_count": 32,
   "metadata": {},
   "outputs": [],
   "source": [
    "embedding_dict = dict()\n",
    "# 사전 훈련된 Word2Vec 모델을 로드\n",
    "model = Word2Vec.load(os.path.join(data_dir2, 'ko.bin'))"
   ]
  },
  {
   "cell_type": "code",
   "execution_count": 33,
   "metadata": {},
   "outputs": [
    {
     "name": "stdout",
     "output_type": "stream",
     "text": [
      "30185개의 Embedding vector가 있습니다.\n"
     ]
    }
   ],
   "source": [
    "for word in model.wv.vocab:\n",
    "    embedding_dict[word] = model.wv[word]\n",
    "    \n",
    "print('%s개의 Embedding vector가 있습니다.' % len(embedding_dict))"
   ]
  },
  {
   "cell_type": "code",
   "execution_count": 34,
   "metadata": {},
   "outputs": [
    {
     "name": "stdout",
     "output_type": "stream",
     "text": [
      "[-1.21498978e+00 -5.43866694e-01  1.32688725e+00 -6.49432898e-01\n",
      " -4.38877225e-01  5.52123845e-01  4.83556360e-01  1.02437699e+00\n",
      " -2.07902670e-01  1.21977139e+00 -5.29723316e-02  2.83519924e-01\n",
      "  3.75814110e-01  6.29925787e-01 -5.16617894e-01 -2.62273163e-01\n",
      " -1.77138105e-01  7.17207134e-01  1.64666355e-01 -1.71311915e-01\n",
      "  5.11819899e-01  4.22978140e-02  2.26164639e-01  7.59881958e-02\n",
      "  3.07586491e-01  6.97090849e-02 -4.44131732e-01  9.51295376e-01\n",
      " -9.61420715e-01 -3.31237733e-01  3.33495051e-01 -2.93511562e-02\n",
      "  4.39231545e-01  2.65127450e-01 -3.65351290e-01 -7.63717890e-01\n",
      "  7.36222565e-02 -9.49564651e-02  2.45211333e-01  6.11337125e-01\n",
      " -1.75878897e-01  6.61108434e-01  1.19337216e-02 -8.98760736e-01\n",
      "  9.82642323e-02  5.10104120e-01 -3.21627408e-01  2.17479408e-01\n",
      "  3.48298520e-01  1.51318341e-01 -2.26444125e-01  3.23872238e-01\n",
      " -6.18719637e-01  9.16367769e-01 -7.72069275e-01 -2.47000799e-01\n",
      " -4.40212220e-01  1.47606462e-01  2.45241672e-01  6.81707561e-01\n",
      " -1.40714899e-01  3.91073883e-01  5.01544848e-02  2.52563149e-01\n",
      "  1.13674058e-02 -3.54860127e-01  1.77441016e-01  5.13799969e-05\n",
      "  8.28689516e-01 -6.87757194e-01 -1.42891631e-01 -6.24541700e-01\n",
      "  4.57952544e-02 -3.81644636e-01 -2.97486097e-01 -5.24748802e-01\n",
      "  3.73561531e-01  1.52763203e-01 -3.72797936e-01 -3.81454170e-01\n",
      " -7.79864311e-01 -1.51068068e+00  8.67638409e-01 -3.11312288e-01\n",
      " -7.80285954e-01 -2.39641994e-01 -4.67136919e-01  1.81962654e-01\n",
      " -8.36277425e-01  6.07094288e-01  1.01539457e+00 -6.08014703e-01\n",
      "  6.33768618e-01 -3.33503574e-01  2.05815196e-01 -4.15049613e-01\n",
      " -1.16501749e+00 -7.92210042e-01  9.02202189e-01  5.90920031e-01\n",
      "  1.30775645e-01 -1.13494217e+00 -2.83240527e-01 -9.02395725e-01\n",
      " -6.64807320e-01  2.42483363e-01 -1.11278617e+00  7.12387860e-01\n",
      " -1.21656907e+00 -6.28343821e-01  5.23963690e-01  4.99666855e-02\n",
      "  1.50805831e-01 -1.38098633e+00 -8.80626775e-03  9.84430134e-01\n",
      "  2.98814327e-01 -6.74968421e-01  4.59986448e-01  8.27621073e-02\n",
      "  1.19693324e-01 -4.09995377e-01  2.35763580e-01  1.57288730e-01\n",
      "  3.24234039e-01  1.18588459e+00 -1.03629458e+00 -9.06577826e-01\n",
      " -2.51714706e-01 -2.94798017e-01 -6.77916169e-01  1.17743097e-01\n",
      "  7.66229272e-01 -1.82938918e-01  5.22433519e-01 -5.09891093e-01\n",
      "  3.52856457e-01  3.10503483e-01  2.07715005e-01 -7.20104337e-01\n",
      " -7.30376467e-02  1.13494015e+00  1.29778311e-01 -1.74500659e-01\n",
      " -1.15637690e-01  3.05515558e-01 -8.56122077e-01 -1.69953540e-01\n",
      " -2.14812346e-02  3.38531494e-01 -3.32267694e-02 -4.57545459e-01\n",
      "  9.90230516e-02 -3.59620333e-01 -8.56615067e-01  2.36271750e-02\n",
      " -1.24600582e-01  1.01010299e+00  3.69404137e-01 -4.49339077e-02\n",
      " -2.05804870e-01  6.43577635e-01 -3.74060380e-03 -4.00851429e-01\n",
      " -3.81164193e-01 -7.07839191e-01  1.70945510e-01  8.40309918e-01\n",
      " -6.86021805e-01  6.98043525e-01 -2.51565069e-01 -4.42376465e-01\n",
      "  6.26746535e-01 -4.13396835e-01  4.66333598e-01 -6.39425814e-01\n",
      " -2.19895363e-01  7.36146569e-01  7.23663926e-01 -4.44941729e-01\n",
      " -1.45601109e-01 -2.12656513e-01  9.57415625e-02  2.84639508e-01\n",
      " -6.63796127e-01  4.18167382e-01  1.88101307e-01  9.80907977e-01\n",
      " -6.67309225e-01  8.13428283e-01 -1.70776136e-02 -2.74063706e-01\n",
      " -2.01226342e-02 -9.82061565e-01  3.04205686e-01 -3.43467325e-01\n",
      "  4.35411870e-01  1.89904273e-02  3.95187825e-01 -7.71242201e-01]\n",
      "200\n"
     ]
    }
   ],
   "source": [
    "print(embedding_dict['우울'])\n",
    "print(len(embedding_dict['우울']))"
   ]
  },
  {
   "cell_type": "code",
   "execution_count": 35,
   "metadata": {},
   "outputs": [
    {
     "name": "stdout",
     "output_type": "stream",
     "text": [
      "임베딩 테이블의 크기(shape) : (3424, 200)\n"
     ]
    }
   ],
   "source": [
    "embedding_dim = 200\n",
    "embedding_matrix = np.zeros((vocab_size, embedding_dim))\n",
    "print('임베딩 테이블의 크기(shape) :',np.shape(embedding_matrix))\n"
   ]
  },
  {
   "cell_type": "code",
   "execution_count": 36,
   "metadata": {},
   "outputs": [],
   "source": [
    "for word, i in word_index.items():\n",
    "    embedding_vector = embedding_dict.get(word)\n",
    "    if embedding_vector is not None:\n",
    "        embedding_matrix[i] = embedding_vector"
   ]
  },
  {
   "cell_type": "code",
   "execution_count": 37,
   "metadata": {},
   "outputs": [],
   "source": [
    "kernel_sizes = [2, 3, 5]\n",
    "num_filters = 512\n",
    "dropout_ratio = 0.5\n",
    "\n",
    "model_input = Input(shape=(max_len,))\n",
    "output = Embedding(vocab_size, embedding_dim, weights=[embedding_matrix],\n",
    "                      input_length=max_len, trainable=False)(model_input)\n",
    "\n",
    "conv_blocks = []\n",
    "\n",
    "for size in kernel_sizes:\n",
    "    conv = Conv1D(filters=num_filters,\n",
    "                         kernel_size=size,\n",
    "                         padding=\"valid\",\n",
    "                         activation=\"relu\",\n",
    "                         strides=1)(output)\n",
    "    conv = GlobalMaxPooling1D()(conv)\n",
    "    conv_blocks.append(conv)\n",
    "\n",
    "output = Concatenate()(conv_blocks) if len(conv_blocks) > 1 else conv_blocks[0]\n",
    "output = Dropout(dropout_ratio)(output)\n",
    "\n"
   ]
  },
  {
   "cell_type": "code",
   "execution_count": 42,
   "metadata": {},
   "outputs": [
    {
     "name": "stdout",
     "output_type": "stream",
     "text": [
      "Model: \"model_1\"\n",
      "__________________________________________________________________________________________________\n",
      " Layer (type)                Output Shape                 Param #   Connected to                  \n",
      "==================================================================================================\n",
      " input_1 (InputLayer)        [(None, 80)]                 0         []                            \n",
      "                                                                                                  \n",
      " embedding (Embedding)       (None, 80, 200)              684800    ['input_1[0][0]']             \n",
      "                                                                                                  \n",
      " conv1d (Conv1D)             (None, 79, 512)              205312    ['embedding[0][0]']           \n",
      "                                                                                                  \n",
      " conv1d_1 (Conv1D)           (None, 78, 512)              307712    ['embedding[0][0]']           \n",
      "                                                                                                  \n",
      " conv1d_2 (Conv1D)           (None, 76, 512)              512512    ['embedding[0][0]']           \n",
      "                                                                                                  \n",
      " global_max_pooling1d (Glob  (None, 512)                  0         ['conv1d[0][0]']              \n",
      " alMaxPooling1D)                                                                                  \n",
      "                                                                                                  \n",
      " global_max_pooling1d_1 (Gl  (None, 512)                  0         ['conv1d_1[0][0]']            \n",
      " obalMaxPooling1D)                                                                                \n",
      "                                                                                                  \n",
      " global_max_pooling1d_2 (Gl  (None, 512)                  0         ['conv1d_2[0][0]']            \n",
      " obalMaxPooling1D)                                                                                \n",
      "                                                                                                  \n",
      " concatenate (Concatenate)   (None, 1536)                 0         ['global_max_pooling1d[0][0]',\n",
      "                                                                     'global_max_pooling1d_1[0][0]\n",
      "                                                                    ',                            \n",
      "                                                                     'global_max_pooling1d_2[0][0]\n",
      "                                                                    ']                            \n",
      "                                                                                                  \n",
      " dropout (Dropout)           (None, 1536)                 0         ['concatenate[0][0]']         \n",
      "                                                                                                  \n",
      " dense_1 (Dense)             (None, 2)                    3074      ['dropout[0][0]']             \n",
      "                                                                                                  \n",
      "==================================================================================================\n",
      "Total params: 1713410 (6.54 MB)\n",
      "Trainable params: 1028610 (3.92 MB)\n",
      "Non-trainable params: 684800 (2.61 MB)\n",
      "__________________________________________________________________________________________________\n"
     ]
    },
    {
     "name": "stdout",
     "output_type": "stream",
     "text": [
      "Epoch 1/10\n",
      "16/16 [==============================] - 1s 37ms/step - loss: 0.8428 - acc: 0.8327 - val_loss: 1.0397 - val_acc: 0.8182\n",
      "Epoch 2/10\n",
      "16/16 [==============================] - 1s 34ms/step - loss: 0.1989 - acc: 0.9490 - val_loss: 1.1781 - val_acc: 0.8545\n",
      "Epoch 3/10\n",
      "16/16 [==============================] - 1s 33ms/step - loss: 0.1377 - acc: 0.9653 - val_loss: 1.1807 - val_acc: 0.8545\n",
      "Epoch 4/10\n",
      "16/16 [==============================] - 1s 32ms/step - loss: 0.1350 - acc: 0.9714 - val_loss: 1.2290 - val_acc: 0.8545\n",
      "Epoch 5/10\n",
      "16/16 [==============================] - 1s 31ms/step - loss: 0.1199 - acc: 0.9673 - val_loss: 1.2123 - val_acc: 0.8545\n",
      "Epoch 6/10\n",
      "16/16 [==============================] - 0s 31ms/step - loss: 0.1000 - acc: 0.9714 - val_loss: 1.2143 - val_acc: 0.8364\n",
      "Epoch 7/10\n",
      "16/16 [==============================] - 0s 31ms/step - loss: 0.1438 - acc: 0.9653 - val_loss: 1.6419 - val_acc: 0.8909\n",
      "Epoch 8/10\n",
      "16/16 [==============================] - 1s 32ms/step - loss: 0.1253 - acc: 0.9673 - val_loss: 1.5747 - val_acc: 0.8364\n",
      "Epoch 9/10\n",
      "16/16 [==============================] - 0s 31ms/step - loss: 0.1224 - acc: 0.9673 - val_loss: 1.8153 - val_acc: 0.8545\n",
      "Epoch 10/10\n",
      "16/16 [==============================] - 1s 31ms/step - loss: 0.1159 - acc: 0.9755 - val_loss: 1.7878 - val_acc: 0.8364\n"
     ]
    }
   ],
   "source": [
    "# Emotion classification model\n",
    "num_pos_classes = 2\n",
    "model_output_emotion = Dense(num_pos_classes, activation='softmax')(output)\n",
    "model_emotion = Model(model_input, model_output_emotion)\n",
    "\n",
    "model_emotion.compile(loss='categorical_crossentropy', optimizer='adam', metrics=['acc'])\n",
    "model_emotion.summary()\n",
    "\n",
    "history_emotion = model_emotion.fit(X_train, y_pos_train,\n",
    "                                    batch_size=32,\n",
    "                                    epochs=10,\n",
    "                                    validation_data=(X_test, y_pos_test))"
   ]
  },
  {
   "cell_type": "code",
   "execution_count": 43,
   "metadata": {},
   "outputs": [
    {
     "data": {
      "image/png": "[encoded data removed]",
      "text/plain": [
       "<Figure size 640x480 with 1 Axes>"
      ]
     },
     "metadata": {},
     "output_type": "display_data"
    },
    {
     "data": {
      "image/png": "[encoded data removed]",
      "text/plain": [
       "<Figure size 640x480 with 1 Axes>"
      ]
     },
     "metadata": {},
     "output_type": "display_data"
    }
   ],
   "source": [
    "# Plot accuracy and loss graphs for emotion classification\n",
    "epochs = range(1, len(history_emotion.history['acc']) + 1)\n",
    "plt.plot(epochs, history_emotion.history['acc'])\n",
    "plt.plot(epochs, history_emotion.history['val_acc'])\n",
    "plt.title('POS Model Accuracy')\n",
    "plt.ylabel('Accuracy')\n",
    "plt.xlabel('Epochs')\n",
    "plt.legend(['train', 'test'], loc='lower right')\n",
    "plt.show()\n",
    "\n",
    "epochs = range(1, len(history_emotion.history['loss']) + 1)\n",
    "plt.plot(epochs, history_emotion.history['loss'])\n",
    "plt.plot(epochs, history_emotion.history['val_loss'])\n",
    "plt.title('Emotion Model Loss')\n",
    "plt.ylabel('Loss')\n",
    "plt.xlabel('Epochs')\n",
    "plt.legend(['train', 'test'], loc='upper right')\n",
    "plt.show()\n"
   ]
  },
  {
   "cell_type": "code",
   "execution_count": null,
   "metadata": {},
   "outputs": [],
   "source": []
  }
 ],
 "metadata": {
  "kernelspec": {
   "display_name": "torch_gpu",
   "language": "python",
   "name": "torch"
  },
  "language_info": {
   "codemirror_mode": {
    "name": "ipython",
    "version": 3
   },
   "file_extension": ".py",
   "mimetype": "text/x-python",
   "name": "python",
   "nbconvert_exporter": "python",
   "pygments_lexer": "ipython3",
   "version": "3.8.17"
  },
  "orig_nbformat": 4
 },
 "nbformat": 4,
 "nbformat_minor": 2
}
