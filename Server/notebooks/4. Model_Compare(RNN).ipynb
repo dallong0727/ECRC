{
 "cells": [
  {
   "cell_type": "code",
   "execution_count": 1,
   "metadata": {},
   "outputs": [],
   "source": [
    "import pandas as pd\n",
    "import numpy as np\n",
    "import os\n",
    "import torch\n",
    "import torch.nn as nn\n",
    "import torch.optim as optim\n",
    "import torch.nn.functional as F\n",
    "import nltk\n",
    "import re\n",
    "import matplotlib.pyplot as plt\n",
    "import matplotlib.font_manager as fm\n",
    "\n",
    "from sklearn.model_selection import train_test_split\n",
    "from sklearn.preprocessing import LabelEncoder\n",
    "from sklearn.metrics import accuracy_score, recall_score, f1_score\n",
    "from torch.utils.data import DataLoader, Dataset\n",
    "from tqdm import tqdm\n",
    "from eunjeon import Mecab"
   ]
  },
  {
   "cell_type": "code",
   "execution_count": 2,
   "metadata": {},
   "outputs": [],
   "source": [
    "# 데이터셋 클래스 정의\n",
    "class SentimentDataset(Dataset):\n",
    "    def __init__(self, df, tokenizer, max_length):\n",
    "        self.tokenizer = tokenizer\n",
    "        self.max_length = max_length\n",
    "\n",
    "        self.sentences1 = df['사람문장1'].values\n",
    "        self.sentences2 = df['사람문장2'].values\n",
    "        self.sentences3 = df['사람문장3'].values\n",
    "        self.emotions = df['감정_대분류'].values\n",
    "        self.situations = df['상황키워드'].values\n",
    "\n",
    "        # Token to index mapping dictionary\n",
    "        all_sentences = list(self.sentences1) + list(self.sentences2) + list(self.sentences3)\n",
    "        self.token_to_idx = {token: idx for idx, token in enumerate(tokenizer.morphs(' '.join(all_sentences)))}\n",
    "        self.token_to_idx['<PAD>'] = len(self.token_to_idx)  # Padding token\n",
    "        self.token_to_idx['<UNK>'] = len(self.token_to_idx)  # Unknown token\n",
    "        self.vocab_size = len(self.token_to_idx)\n",
    "\n",
    "    def __len__(self):\n",
    "        return len(self.sentences1)\n",
    "\n",
    "    def __getitem__(self, idx):\n",
    "        sentence1 = self.sentences1[idx]\n",
    "        sentence2 = self.sentences2[idx]\n",
    "        sentence3 = self.sentences3[idx]\n",
    "        emotion = self.emotions[idx]\n",
    "        situation = self.situations[idx]\n",
    "\n",
    "        # Tokenize sentences and apply padding\n",
    "        tokens1 = self.tokenizer.morphs(sentence1)\n",
    "        tokens2 = self.tokenizer.morphs(sentence2)\n",
    "        tokens3 = self.tokenizer.morphs(sentence3)\n",
    "        \n",
    "        tokens_list = [tokens1, tokens2, tokens3]\n",
    "        input_ids_list = []\n",
    "        for tokens in tokens_list:\n",
    "            if len(tokens) < self.max_length:\n",
    "                tokens += ['<PAD>'] * (self.max_length - len(tokens))\n",
    "            else:\n",
    "                tokens = tokens[:self.max_length]\n",
    "            # Convert tokens to input IDs\n",
    "            input_ids = [self.token_to_idx.get(token, self.token_to_idx['<UNK>']) for token in tokens]\n",
    "            input_ids_list.append(input_ids)\n",
    "\n",
    "        return {\n",
    "            'input_ids1': torch.tensor(input_ids_list[0]),\n",
    "            'input_ids2': torch.tensor(input_ids_list[1]),\n",
    "            'input_ids3': torch.tensor(input_ids_list[2]),\n",
    "            'emotion': emotion,\n",
    "            'situation': situation\n",
    "        }"
   ]
  },
  {
   "cell_type": "code",
   "execution_count": 3,
   "metadata": {},
   "outputs": [],
   "source": [
    "# RNN 모델 정의\n",
    "class RNNModel(nn.Module):\n",
    "    def __init__(self, vocab_size, num_emotions, num_situations, input_size=200, hidden_size=128):\n",
    "        super(RNNModel, self).__init__()\n",
    "        self.embedding = nn.Embedding(vocab_size, input_size)\n",
    "        self.rnn = nn.LSTM(input_size, hidden_size, batch_first=True)\n",
    "        self.fc1 = nn.Linear(hidden_size, 64)  # 추가적인 완전 연결 레이어\n",
    "        self.fc2 = nn.Linear(64, num_emotions)  # 추가적인 완전 연결 레이어\n",
    "        self.fc3 = nn.Linear(hidden_size, 64)  # 추가적인 완전 연결 레이어\n",
    "        self.fc4 = nn.Linear(64, num_situations)  # 추가적인 완전 연결 레이어\n",
    "\n",
    "    def forward(self, input_ids):\n",
    "        embedded = self.embedding(input_ids)\n",
    "        rnn_output, _ = self.rnn(embedded)\n",
    "        pooled_output = rnn_output.mean(dim=1)\n",
    "        emotion_logits = self.fc1(pooled_output)\n",
    "        emotion_logits = self.fc2(emotion_logits)\n",
    "        situation_logits = self.fc3(pooled_output)\n",
    "        situation_logits = self.fc4(situation_logits)\n",
    "\n",
    "        return emotion_logits, situation_logits"
   ]
  },
  {
   "cell_type": "code",
   "execution_count": 4,
   "metadata": {},
   "outputs": [],
   "source": [
    "data_dir = '../analysis_files/files/'\n",
    "device = torch.device('cuda' if torch.cuda.is_available() else 'cpu')\n",
    "\n",
    "# mecab 모델 다운로드\n",
    "tokenizer = Mecab()"
   ]
  },
  {
   "cell_type": "code",
   "execution_count": 5,
   "metadata": {},
   "outputs": [],
   "source": [
    "# 감성대화말뭉치(최종데이터)_Training.csv 파일을 pandas로 읽어옵니다.\n",
    "df = pd.read_csv(os.path.join(data_dir, '감성대화말뭉치(최종데이터)_Validation2.csv'), encoding='cp949')\n",
    "df = df[['사람문장1', '사람문장2', '사람문장3', '감정_대분류', '상황키워드']]\n",
    "\n",
    "# NaN 값과 빈 문자열 제거\n",
    "df.dropna(subset=['사람문장3'], inplace=True)\n",
    "df = df[df.astype(str).ne('').all(axis=1)]"
   ]
  },
  {
   "cell_type": "code",
   "execution_count": 6,
   "metadata": {},
   "outputs": [],
   "source": [
    "# 레이블 인코딩\n",
    "emotion_encoder = LabelEncoder()\n",
    "df['emotion'] = emotion_encoder.fit_transform(df['감정_대분류'])\n",
    "situation_encoder = LabelEncoder()\n",
    "df['situation'] = situation_encoder.fit_transform(df['상황키워드'])"
   ]
  },
  {
   "cell_type": "code",
   "execution_count": 7,
   "metadata": {},
   "outputs": [],
   "source": [
    "# 데이터 분할\n",
    "train_df, test_df = train_test_split(df, test_size=0.2, random_state=42)\n",
    "\n",
    "# 데이터셋 초기화\n",
    "train_dataset = SentimentDataset(train_df, tokenizer, max_length=16)\n",
    "test_dataset = SentimentDataset(test_df, tokenizer, max_length=16)\n",
    "\n",
    "# 데이터로더 초기화\n",
    "batch_size = 32\n",
    "train_dataloader = DataLoader(train_dataset, batch_size=batch_size, shuffle=True)\n",
    "test_dataloader = DataLoader(test_dataset, batch_size=batch_size, shuffle=True)\n"
   ]
  },
  {
   "cell_type": "code",
   "execution_count": 8,
   "metadata": {},
   "outputs": [],
   "source": [
    "# 모델 초기화\n",
    "vocab_size = train_dataset.vocab_size\n",
    "num_emotions = len(emotion_encoder.classes_)\n",
    "num_situations = len(situation_encoder.classes_)\n",
    "model = RNNModel(vocab_size, num_emotions, num_situations)\n",
    "\n",
    "# 손실 함수, 최적화 알고리즘 설정\n",
    "criterion = nn.CrossEntropyLoss()\n",
    "optimizer = optim.Adam(model.parameters(), lr=0.0001)"
   ]
  },
  {
   "cell_type": "code",
   "execution_count": 9,
   "metadata": {},
   "outputs": [],
   "source": [
    "# 평가 함수 정의\n",
    "def evaluate(model, dataloader):\n",
    "    model.eval()\n",
    "    y_true_emotion = []\n",
    "    y_pred_emotion = []\n",
    "    y_true_situation = []\n",
    "    y_pred_situation = []\n",
    "\n",
    "    with torch.no_grad():\n",
    "        for batch in dataloader:\n",
    "            input_ids1 = batch['input_ids1'].to(device)\n",
    "            input_ids2 = batch['input_ids2'].to(device)\n",
    "            input_ids3 = batch['input_ids3'].to(device)\n",
    "            emotion_labels = torch.tensor(emotion_encoder.transform(batch['emotion']), dtype=torch.long).to(device)\n",
    "            situation_labels = torch.tensor(situation_encoder.transform(batch['situation']), dtype=torch.long).to(device)\n",
    "            \n",
    "            # input_ids1, input_ids2, input_ids3에 있는 토큰들을 최대 임베딩 크기보다 작은 값으로 clamp\n",
    "            input_ids1 = torch.clamp(input_ids1, max=vocab_size - 1)\n",
    "            input_ids2 = torch.clamp(input_ids2, max=vocab_size - 1)\n",
    "            input_ids3 = torch.clamp(input_ids3, max=vocab_size - 1)\n",
    "            \n",
    "            emotion_logits1, situation_logits1 = model(input_ids1)\n",
    "            emotion_logits2, situation_logits2 = model(input_ids2)\n",
    "            emotion_logits3, situation_logits3 = model(input_ids3)\n",
    "\n",
    "            # Combine logits from all three models (average or max, depending on your choice)\n",
    "            emotion_logits = (emotion_logits1 + emotion_logits2 + emotion_logits3) / 3\n",
    "            situation_logits = (situation_logits1 + situation_logits2 + situation_logits3) / 3\n",
    "\n",
    "            _, predicted_emotion = torch.max(emotion_logits, 1)\n",
    "            _, predicted_situation = torch.max(situation_logits, 1)\n",
    "\n",
    "            y_true_emotion.extend(emotion_labels.tolist())\n",
    "            y_pred_emotion.extend(predicted_emotion.tolist())\n",
    "            y_true_situation.extend(situation_labels.tolist())\n",
    "            y_pred_situation.extend(predicted_situation.tolist())\n",
    "\n",
    "    accuracy_emotion = accuracy_score(y_true_emotion, y_pred_emotion)\n",
    "    recall_emotion = recall_score(y_true_emotion, y_pred_emotion, average='macro')\n",
    "    f1_emotion = f1_score(y_true_emotion, y_pred_emotion, average='macro')\n",
    "    accuracy_situation = accuracy_score(y_true_situation, y_pred_situation)\n",
    "    recall_situation = recall_score(y_true_situation, y_pred_situation, average='macro')\n",
    "    f1_situation = f1_score(y_true_situation, y_pred_situation, average='macro')\n",
    "\n",
    "    return accuracy_emotion, recall_emotion, f1_emotion, accuracy_situation, recall_situation, f1_situation\n",
    "\n"
   ]
  },
  {
   "cell_type": "code",
   "execution_count": 10,
   "metadata": {},
   "outputs": [
    {
     "name": "stderr",
     "output_type": "stream",
     "text": [
      "                                                                                \r"
     ]
    },
    {
     "name": "stdout",
     "output_type": "stream",
     "text": [
      "Epoch 1/100:\n",
      "Train Emotion Accuracy: 0.1934 Recall: 0.1667 F1-score: 0.0540\n",
      "Train Situation Accuracy: 0.1990 Recall: 0.0833 F1-score: 0.0277\n",
      "Test Emotion Accuracy: 0.1971 Recall: 0.1667 F1-score: 0.0551\n",
      "Test Situation Accuracy: 0.2241 Recall: 0.0833 F1-score: 0.0305\n",
      "\n"
     ]
    },
    {
     "name": "stderr",
     "output_type": "stream",
     "text": [
      "                                                                                \r"
     ]
    },
    {
     "name": "stdout",
     "output_type": "stream",
     "text": [
      "Epoch 2/100:\n",
      "Train Emotion Accuracy: 0.1934 Recall: 0.1667 F1-score: 0.0540\n",
      "Train Situation Accuracy: 0.1990 Recall: 0.0833 F1-score: 0.0277\n",
      "Test Emotion Accuracy: 0.1971 Recall: 0.1673 F1-score: 0.0610\n",
      "Test Situation Accuracy: 0.2241 Recall: 0.0833 F1-score: 0.0305\n",
      "\n"
     ]
    },
    {
     "name": "stderr",
     "output_type": "stream",
     "text": [
      "                                                                                \r"
     ]
    },
    {
     "name": "stdout",
     "output_type": "stream",
     "text": [
      "Epoch 3/100:\n",
      "Train Emotion Accuracy: 0.1934 Recall: 0.1667 F1-score: 0.0540\n",
      "Train Situation Accuracy: 0.1990 Recall: 0.0833 F1-score: 0.0277\n",
      "Test Emotion Accuracy: 0.1971 Recall: 0.1667 F1-score: 0.0550\n",
      "Test Situation Accuracy: 0.2241 Recall: 0.0833 F1-score: 0.0305\n",
      "\n"
     ]
    },
    {
     "name": "stderr",
     "output_type": "stream",
     "text": [
      "                                                                                \r"
     ]
    },
    {
     "name": "stdout",
     "output_type": "stream",
     "text": [
      "Epoch 4/100:\n",
      "Train Emotion Accuracy: 0.1934 Recall: 0.1667 F1-score: 0.0540\n",
      "Train Situation Accuracy: 0.1990 Recall: 0.0833 F1-score: 0.0277\n",
      "Test Emotion Accuracy: 0.1982 Recall: 0.1678 F1-score: 0.0574\n",
      "Test Situation Accuracy: 0.2241 Recall: 0.0833 F1-score: 0.0305\n",
      "\n"
     ]
    },
    {
     "name": "stderr",
     "output_type": "stream",
     "text": [
      "                                                                                \r"
     ]
    },
    {
     "name": "stdout",
     "output_type": "stream",
     "text": [
      "Epoch 5/100:\n",
      "Train Emotion Accuracy: 0.1934 Recall: 0.1667 F1-score: 0.0540\n",
      "Train Situation Accuracy: 0.1990 Recall: 0.0833 F1-score: 0.0277\n",
      "Test Emotion Accuracy: 0.1971 Recall: 0.1675 F1-score: 0.0628\n",
      "Test Situation Accuracy: 0.2241 Recall: 0.0833 F1-score: 0.0305\n",
      "\n"
     ]
    },
    {
     "name": "stderr",
     "output_type": "stream",
     "text": [
      "                                                                                \r"
     ]
    },
    {
     "name": "stdout",
     "output_type": "stream",
     "text": [
      "Epoch 6/100:\n",
      "Train Emotion Accuracy: 0.1934 Recall: 0.1667 F1-score: 0.0540\n",
      "Train Situation Accuracy: 0.1990 Recall: 0.0833 F1-score: 0.0277\n",
      "Test Emotion Accuracy: 0.1982 Recall: 0.1680 F1-score: 0.0594\n",
      "Test Situation Accuracy: 0.2241 Recall: 0.0833 F1-score: 0.0305\n",
      "\n"
     ]
    },
    {
     "name": "stderr",
     "output_type": "stream",
     "text": [
      "                                                                                \r"
     ]
    },
    {
     "name": "stdout",
     "output_type": "stream",
     "text": [
      "Epoch 7/100:\n",
      "Train Emotion Accuracy: 0.1934 Recall: 0.1667 F1-score: 0.0540\n",
      "Train Situation Accuracy: 0.1990 Recall: 0.0833 F1-score: 0.0277\n",
      "Test Emotion Accuracy: 0.1982 Recall: 0.1680 F1-score: 0.0593\n",
      "Test Situation Accuracy: 0.2241 Recall: 0.0833 F1-score: 0.0305\n",
      "\n"
     ]
    },
    {
     "name": "stderr",
     "output_type": "stream",
     "text": [
      "                                                                                \r"
     ]
    },
    {
     "name": "stdout",
     "output_type": "stream",
     "text": [
      "Epoch 8/100:\n",
      "Train Emotion Accuracy: 0.1934 Recall: 0.1667 F1-score: 0.0540\n",
      "Train Situation Accuracy: 0.1990 Recall: 0.0833 F1-score: 0.0277\n",
      "Test Emotion Accuracy: 0.1948 Recall: 0.1738 F1-score: 0.0908\n",
      "Test Situation Accuracy: 0.2241 Recall: 0.0833 F1-score: 0.0305\n",
      "\n"
     ]
    },
    {
     "name": "stderr",
     "output_type": "stream",
     "text": [
      "                                                                                \r"
     ]
    },
    {
     "name": "stdout",
     "output_type": "stream",
     "text": [
      "Epoch 9/100:\n",
      "Train Emotion Accuracy: 0.1934 Recall: 0.1667 F1-score: 0.0540\n",
      "Train Situation Accuracy: 0.1990 Recall: 0.0833 F1-score: 0.0277\n",
      "Test Emotion Accuracy: 0.1982 Recall: 0.1680 F1-score: 0.0594\n",
      "Test Situation Accuracy: 0.2241 Recall: 0.0833 F1-score: 0.0305\n",
      "\n"
     ]
    },
    {
     "name": "stderr",
     "output_type": "stream",
     "text": [
      "                                                                                \r"
     ]
    },
    {
     "name": "stdout",
     "output_type": "stream",
     "text": [
      "Epoch 10/100:\n",
      "Train Emotion Accuracy: 0.1934 Recall: 0.1667 F1-score: 0.0540\n",
      "Train Situation Accuracy: 0.1990 Recall: 0.0833 F1-score: 0.0277\n",
      "Test Emotion Accuracy: 0.1982 Recall: 0.1680 F1-score: 0.0593\n",
      "Test Situation Accuracy: 0.2241 Recall: 0.0833 F1-score: 0.0305\n",
      "\n"
     ]
    },
    {
     "name": "stderr",
     "output_type": "stream",
     "text": [
      "                                                                                \r"
     ]
    },
    {
     "name": "stdout",
     "output_type": "stream",
     "text": [
      "Epoch 11/100:\n",
      "Train Emotion Accuracy: 0.1934 Recall: 0.1667 F1-score: 0.0540\n",
      "Train Situation Accuracy: 0.1990 Recall: 0.0833 F1-score: 0.0277\n",
      "Test Emotion Accuracy: 0.1881 Recall: 0.1594 F1-score: 0.0567\n",
      "Test Situation Accuracy: 0.2241 Recall: 0.0833 F1-score: 0.0305\n",
      "\n"
     ]
    },
    {
     "name": "stderr",
     "output_type": "stream",
     "text": [
      "                                                                                \r"
     ]
    },
    {
     "name": "stdout",
     "output_type": "stream",
     "text": [
      "Epoch 12/100:\n",
      "Train Emotion Accuracy: 0.1934 Recall: 0.1667 F1-score: 0.0540\n",
      "Train Situation Accuracy: 0.1990 Recall: 0.0833 F1-score: 0.0277\n",
      "Test Emotion Accuracy: 0.1948 Recall: 0.1655 F1-score: 0.0613\n",
      "Test Situation Accuracy: 0.2241 Recall: 0.0833 F1-score: 0.0305\n",
      "\n"
     ]
    },
    {
     "name": "stderr",
     "output_type": "stream",
     "text": [
      "                                                                                \r"
     ]
    },
    {
     "name": "stdout",
     "output_type": "stream",
     "text": [
      "Epoch 13/100:\n",
      "Train Emotion Accuracy: 0.1934 Recall: 0.1667 F1-score: 0.0540\n",
      "Train Situation Accuracy: 0.1990 Recall: 0.0833 F1-score: 0.0277\n",
      "Test Emotion Accuracy: 0.1971 Recall: 0.1667 F1-score: 0.0550\n",
      "Test Situation Accuracy: 0.2241 Recall: 0.0833 F1-score: 0.0305\n",
      "\n"
     ]
    },
    {
     "name": "stderr",
     "output_type": "stream",
     "text": [
      "                                                                                \r"
     ]
    },
    {
     "name": "stdout",
     "output_type": "stream",
     "text": [
      "Epoch 14/100:\n",
      "Train Emotion Accuracy: 0.1934 Recall: 0.1667 F1-score: 0.0540\n",
      "Train Situation Accuracy: 0.1993 Recall: 0.0836 F1-score: 0.0282\n",
      "Test Emotion Accuracy: 0.1982 Recall: 0.1678 F1-score: 0.0574\n",
      "Test Situation Accuracy: 0.2241 Recall: 0.0833 F1-score: 0.0305\n",
      "\n"
     ]
    },
    {
     "name": "stderr",
     "output_type": "stream",
     "text": [
      "                                                                                \r"
     ]
    },
    {
     "name": "stdout",
     "output_type": "stream",
     "text": [
      "Epoch 15/100:\n",
      "Train Emotion Accuracy: 0.1917 Recall: 0.1792 F1-score: 0.0935\n",
      "Train Situation Accuracy: 0.1990 Recall: 0.0833 F1-score: 0.0277\n",
      "Test Emotion Accuracy: 0.1475 Recall: 0.1667 F1-score: 0.0429\n",
      "Test Situation Accuracy: 0.2241 Recall: 0.0833 F1-score: 0.0305\n",
      "\n"
     ]
    },
    {
     "name": "stderr",
     "output_type": "stream",
     "text": [
      "                                                                                \r"
     ]
    },
    {
     "name": "stdout",
     "output_type": "stream",
     "text": [
      "Epoch 16/100:\n",
      "Train Emotion Accuracy: 0.1928 Recall: 0.1831 F1-score: 0.0950\n",
      "Train Situation Accuracy: 0.1990 Recall: 0.0833 F1-score: 0.0277\n",
      "Test Emotion Accuracy: 0.1475 Recall: 0.1667 F1-score: 0.0429\n",
      "Test Situation Accuracy: 0.2241 Recall: 0.0833 F1-score: 0.0305\n",
      "\n"
     ]
    },
    {
     "name": "stderr",
     "output_type": "stream",
     "text": [
      "                                                                                \r"
     ]
    },
    {
     "name": "stdout",
     "output_type": "stream",
     "text": [
      "Epoch 17/100:\n",
      "Train Emotion Accuracy: 0.1934 Recall: 0.1667 F1-score: 0.0540\n",
      "Train Situation Accuracy: 0.1990 Recall: 0.0833 F1-score: 0.0277\n",
      "Test Emotion Accuracy: 0.1858 Recall: 0.1578 F1-score: 0.0579\n",
      "Test Situation Accuracy: 0.2241 Recall: 0.0833 F1-score: 0.0305\n",
      "\n"
     ]
    },
    {
     "name": "stderr",
     "output_type": "stream",
     "text": [
      "                                                                                \r"
     ]
    },
    {
     "name": "stdout",
     "output_type": "stream",
     "text": [
      "Epoch 18/100:\n",
      "Train Emotion Accuracy: 0.1920 Recall: 0.1794 F1-score: 0.0937\n",
      "Train Situation Accuracy: 0.1993 Recall: 0.0836 F1-score: 0.0282\n",
      "Test Emotion Accuracy: 0.1565 Recall: 0.1727 F1-score: 0.0629\n",
      "Test Situation Accuracy: 0.2241 Recall: 0.0833 F1-score: 0.0305\n",
      "\n"
     ]
    },
    {
     "name": "stderr",
     "output_type": "stream",
     "text": [
      "                                                                                \r"
     ]
    },
    {
     "name": "stdout",
     "output_type": "stream",
     "text": [
      "Epoch 19/100:\n",
      "Train Emotion Accuracy: 0.1923 Recall: 0.1797 F1-score: 0.0938\n",
      "Train Situation Accuracy: 0.1996 Recall: 0.0838 F1-score: 0.0286\n",
      "Test Emotion Accuracy: 0.1565 Recall: 0.1719 F1-score: 0.0714\n",
      "Test Situation Accuracy: 0.2241 Recall: 0.0833 F1-score: 0.0305\n",
      "\n"
     ]
    },
    {
     "name": "stderr",
     "output_type": "stream",
     "text": [
      "                                                                                \r"
     ]
    },
    {
     "name": "stdout",
     "output_type": "stream",
     "text": [
      "Epoch 20/100:\n",
      "Train Emotion Accuracy: 0.1928 Recall: 0.1831 F1-score: 0.0950\n",
      "Train Situation Accuracy: 0.1993 Recall: 0.0836 F1-score: 0.0282\n",
      "Test Emotion Accuracy: 0.1475 Recall: 0.1667 F1-score: 0.0429\n",
      "Test Situation Accuracy: 0.2241 Recall: 0.0833 F1-score: 0.0305\n",
      "\n"
     ]
    },
    {
     "name": "stderr",
     "output_type": "stream",
     "text": [
      "                                                                                \r"
     ]
    },
    {
     "name": "stdout",
     "output_type": "stream",
     "text": [
      "Epoch 21/100:\n",
      "Train Emotion Accuracy: 0.1934 Recall: 0.1667 F1-score: 0.0540\n",
      "Train Situation Accuracy: 0.1993 Recall: 0.0836 F1-score: 0.0282\n",
      "Test Emotion Accuracy: 0.1858 Recall: 0.1578 F1-score: 0.0579\n",
      "Test Situation Accuracy: 0.2241 Recall: 0.0833 F1-score: 0.0305\n",
      "\n"
     ]
    },
    {
     "name": "stderr",
     "output_type": "stream",
     "text": [
      "                                                                                \r"
     ]
    },
    {
     "name": "stdout",
     "output_type": "stream",
     "text": [
      "Epoch 22/100:\n",
      "Train Emotion Accuracy: 0.1917 Recall: 0.1792 F1-score: 0.0935\n",
      "Train Situation Accuracy: 0.1993 Recall: 0.0836 F1-score: 0.0282\n",
      "Test Emotion Accuracy: 0.1498 Recall: 0.1683 F1-score: 0.0483\n",
      "Test Situation Accuracy: 0.2241 Recall: 0.0833 F1-score: 0.0305\n",
      "\n"
     ]
    },
    {
     "name": "stderr",
     "output_type": "stream",
     "text": [
      "                                                                                \r"
     ]
    },
    {
     "name": "stdout",
     "output_type": "stream",
     "text": [
      "Epoch 23/100:\n",
      "Train Emotion Accuracy: 0.1917 Recall: 0.1792 F1-score: 0.0935\n",
      "Train Situation Accuracy: 0.1996 Recall: 0.0838 F1-score: 0.0286\n",
      "Test Emotion Accuracy: 0.1475 Recall: 0.1667 F1-score: 0.0429\n",
      "Test Situation Accuracy: 0.2241 Recall: 0.0833 F1-score: 0.0305\n",
      "\n"
     ]
    },
    {
     "name": "stderr",
     "output_type": "stream",
     "text": [
      "                                                                                \r"
     ]
    },
    {
     "name": "stdout",
     "output_type": "stream",
     "text": [
      "Epoch 24/100:\n",
      "Train Emotion Accuracy: 0.1917 Recall: 0.1792 F1-score: 0.0935\n",
      "Train Situation Accuracy: 0.1993 Recall: 0.0836 F1-score: 0.0282\n",
      "Test Emotion Accuracy: 0.1475 Recall: 0.1667 F1-score: 0.0429\n",
      "Test Situation Accuracy: 0.2241 Recall: 0.0833 F1-score: 0.0305\n",
      "\n"
     ]
    },
    {
     "name": "stderr",
     "output_type": "stream",
     "text": [
      "                                                                                \r"
     ]
    },
    {
     "name": "stdout",
     "output_type": "stream",
     "text": [
      "Epoch 25/100:\n",
      "Train Emotion Accuracy: 0.1917 Recall: 0.1792 F1-score: 0.0935\n",
      "Train Situation Accuracy: 0.1996 Recall: 0.0838 F1-score: 0.0286\n",
      "Test Emotion Accuracy: 0.1486 Recall: 0.1670 F1-score: 0.0480\n",
      "Test Situation Accuracy: 0.2241 Recall: 0.0833 F1-score: 0.0305\n",
      "\n"
     ]
    },
    {
     "name": "stderr",
     "output_type": "stream",
     "text": [
      "                                                                                \r"
     ]
    },
    {
     "name": "stdout",
     "output_type": "stream",
     "text": [
      "Epoch 26/100:\n",
      "Train Emotion Accuracy: 0.1920 Recall: 0.1794 F1-score: 0.0937\n",
      "Train Situation Accuracy: 0.1993 Recall: 0.0836 F1-score: 0.0282\n",
      "Test Emotion Accuracy: 0.1532 Recall: 0.1692 F1-score: 0.0606\n",
      "Test Situation Accuracy: 0.2241 Recall: 0.0833 F1-score: 0.0305\n",
      "\n"
     ]
    },
    {
     "name": "stderr",
     "output_type": "stream",
     "text": [
      "                                                                                \r"
     ]
    },
    {
     "name": "stdout",
     "output_type": "stream",
     "text": [
      "Epoch 27/100:\n",
      "Train Emotion Accuracy: 0.1934 Recall: 0.1667 F1-score: 0.0540\n",
      "Train Situation Accuracy: 0.1993 Recall: 0.0836 F1-score: 0.0282\n",
      "Test Emotion Accuracy: 0.1813 Recall: 0.1553 F1-score: 0.0623\n",
      "Test Situation Accuracy: 0.2241 Recall: 0.0833 F1-score: 0.0305\n",
      "\n"
     ]
    },
    {
     "name": "stderr",
     "output_type": "stream",
     "text": [
      "                                                                                \r"
     ]
    },
    {
     "name": "stdout",
     "output_type": "stream",
     "text": [
      "Epoch 28/100:\n",
      "Train Emotion Accuracy: 0.1923 Recall: 0.1797 F1-score: 0.0938\n",
      "Train Situation Accuracy: 0.1996 Recall: 0.0838 F1-score: 0.0286\n",
      "Test Emotion Accuracy: 0.1543 Recall: 0.1701 F1-score: 0.0620\n",
      "Test Situation Accuracy: 0.2241 Recall: 0.0833 F1-score: 0.0305\n",
      "\n"
     ]
    },
    {
     "name": "stderr",
     "output_type": "stream",
     "text": [
      "                                                                                \r"
     ]
    },
    {
     "name": "stdout",
     "output_type": "stream",
     "text": [
      "Epoch 29/100:\n",
      "Train Emotion Accuracy: 0.1934 Recall: 0.1667 F1-score: 0.0540\n",
      "Train Situation Accuracy: 0.1990 Recall: 0.0833 F1-score: 0.0277\n",
      "Test Emotion Accuracy: 0.1971 Recall: 0.1667 F1-score: 0.0552\n",
      "Test Situation Accuracy: 0.2241 Recall: 0.0833 F1-score: 0.0305\n",
      "\n"
     ]
    },
    {
     "name": "stderr",
     "output_type": "stream",
     "text": [
      "                                                                                \r"
     ]
    },
    {
     "name": "stdout",
     "output_type": "stream",
     "text": [
      "Epoch 30/100:\n",
      "Train Emotion Accuracy: 0.1917 Recall: 0.1792 F1-score: 0.0935\n",
      "Train Situation Accuracy: 0.1993 Recall: 0.0836 F1-score: 0.0282\n",
      "Test Emotion Accuracy: 0.1486 Recall: 0.1670 F1-score: 0.0480\n",
      "Test Situation Accuracy: 0.2241 Recall: 0.0833 F1-score: 0.0305\n",
      "\n"
     ]
    },
    {
     "name": "stderr",
     "output_type": "stream",
     "text": [
      "                                                                                \r"
     ]
    },
    {
     "name": "stdout",
     "output_type": "stream",
     "text": [
      "Epoch 31/100:\n",
      "Train Emotion Accuracy: 0.1934 Recall: 0.1667 F1-score: 0.0540\n",
      "Train Situation Accuracy: 0.1993 Recall: 0.0836 F1-score: 0.0282\n",
      "Test Emotion Accuracy: 0.1959 Recall: 0.1663 F1-score: 0.0607\n",
      "Test Situation Accuracy: 0.2241 Recall: 0.0833 F1-score: 0.0305\n",
      "\n"
     ]
    },
    {
     "name": "stderr",
     "output_type": "stream",
     "text": [
      "                                                                                \r"
     ]
    },
    {
     "name": "stdout",
     "output_type": "stream",
     "text": [
      "Epoch 32/100:\n",
      "Train Emotion Accuracy: 0.1917 Recall: 0.1792 F1-score: 0.0935\n",
      "Train Situation Accuracy: 0.1993 Recall: 0.0836 F1-score: 0.0282\n",
      "Test Emotion Accuracy: 0.1475 Recall: 0.1667 F1-score: 0.0429\n",
      "Test Situation Accuracy: 0.2241 Recall: 0.0833 F1-score: 0.0305\n",
      "\n"
     ]
    },
    {
     "name": "stderr",
     "output_type": "stream",
     "text": [
      "                                                                                \r"
     ]
    },
    {
     "name": "stdout",
     "output_type": "stream",
     "text": [
      "Epoch 33/100:\n",
      "Train Emotion Accuracy: 0.1931 Recall: 0.1834 F1-score: 0.0951\n",
      "Train Situation Accuracy: 0.1993 Recall: 0.0836 F1-score: 0.0282\n",
      "Test Emotion Accuracy: 0.1475 Recall: 0.1667 F1-score: 0.0429\n",
      "Test Situation Accuracy: 0.2241 Recall: 0.0833 F1-score: 0.0305\n",
      "\n"
     ]
    },
    {
     "name": "stderr",
     "output_type": "stream",
     "text": [
      "                                                                                \r"
     ]
    },
    {
     "name": "stdout",
     "output_type": "stream",
     "text": [
      "Epoch 34/100:\n",
      "Train Emotion Accuracy: 0.1934 Recall: 0.1667 F1-score: 0.0540\n",
      "Train Situation Accuracy: 0.1990 Recall: 0.0833 F1-score: 0.0277\n",
      "Test Emotion Accuracy: 0.1802 Recall: 0.1549 F1-score: 0.0643\n",
      "Test Situation Accuracy: 0.2241 Recall: 0.0833 F1-score: 0.0305\n",
      "\n"
     ]
    },
    {
     "name": "stderr",
     "output_type": "stream",
     "text": [
      "                                                                                \r"
     ]
    },
    {
     "name": "stdout",
     "output_type": "stream",
     "text": [
      "Epoch 35/100:\n",
      "Train Emotion Accuracy: 0.1934 Recall: 0.1667 F1-score: 0.0540\n",
      "Train Situation Accuracy: 0.1993 Recall: 0.0836 F1-score: 0.0282\n",
      "Test Emotion Accuracy: 0.1802 Recall: 0.1549 F1-score: 0.0643\n",
      "Test Situation Accuracy: 0.2241 Recall: 0.0833 F1-score: 0.0305\n",
      "\n"
     ]
    },
    {
     "name": "stderr",
     "output_type": "stream",
     "text": [
      "                                                                                \r"
     ]
    },
    {
     "name": "stdout",
     "output_type": "stream",
     "text": [
      "Epoch 36/100:\n",
      "Train Emotion Accuracy: 0.1934 Recall: 0.1667 F1-score: 0.0540\n",
      "Train Situation Accuracy: 0.1993 Recall: 0.0836 F1-score: 0.0282\n",
      "Test Emotion Accuracy: 0.1813 Recall: 0.1556 F1-score: 0.0635\n",
      "Test Situation Accuracy: 0.2241 Recall: 0.0833 F1-score: 0.0305\n",
      "\n"
     ]
    },
    {
     "name": "stderr",
     "output_type": "stream",
     "text": [
      "                                                                                \r"
     ]
    },
    {
     "name": "stdout",
     "output_type": "stream",
     "text": [
      "Epoch 37/100:\n",
      "Train Emotion Accuracy: 0.1917 Recall: 0.1792 F1-score: 0.0935\n",
      "Train Situation Accuracy: 0.1996 Recall: 0.0838 F1-score: 0.0286\n",
      "Test Emotion Accuracy: 0.1498 Recall: 0.1683 F1-score: 0.0483\n",
      "Test Situation Accuracy: 0.2241 Recall: 0.0833 F1-score: 0.0305\n",
      "\n"
     ]
    },
    {
     "name": "stderr",
     "output_type": "stream",
     "text": [
      "                                                                                \r"
     ]
    },
    {
     "name": "stdout",
     "output_type": "stream",
     "text": [
      "Epoch 38/100:\n",
      "Train Emotion Accuracy: 0.1937 Recall: 0.1670 F1-score: 0.0547\n",
      "Train Situation Accuracy: 0.1996 Recall: 0.0838 F1-score: 0.0286\n",
      "Test Emotion Accuracy: 0.1622 Recall: 0.1528 F1-score: 0.0794\n",
      "Test Situation Accuracy: 0.2241 Recall: 0.0833 F1-score: 0.0305\n",
      "\n"
     ]
    },
    {
     "name": "stderr",
     "output_type": "stream",
     "text": [
      "                                                                                \r"
     ]
    },
    {
     "name": "stdout",
     "output_type": "stream",
     "text": [
      "Epoch 39/100:\n",
      "Train Emotion Accuracy: 0.1920 Recall: 0.1795 F1-score: 0.0937\n",
      "Train Situation Accuracy: 0.1996 Recall: 0.0838 F1-score: 0.0286\n",
      "Test Emotion Accuracy: 0.1509 Recall: 0.1689 F1-score: 0.0516\n",
      "Test Situation Accuracy: 0.2241 Recall: 0.0833 F1-score: 0.0305\n",
      "\n"
     ]
    },
    {
     "name": "stderr",
     "output_type": "stream",
     "text": [
      "                                                                                \r"
     ]
    },
    {
     "name": "stdout",
     "output_type": "stream",
     "text": [
      "Epoch 40/100:\n",
      "Train Emotion Accuracy: 0.1923 Recall: 0.1797 F1-score: 0.0938\n",
      "Train Situation Accuracy: 0.1993 Recall: 0.0836 F1-score: 0.0282\n",
      "Test Emotion Accuracy: 0.1520 Recall: 0.1686 F1-score: 0.0582\n",
      "Test Situation Accuracy: 0.2241 Recall: 0.0833 F1-score: 0.0305\n",
      "\n"
     ]
    },
    {
     "name": "stderr",
     "output_type": "stream",
     "text": [
      "                                                                                \r"
     ]
    },
    {
     "name": "stdout",
     "output_type": "stream",
     "text": [
      "Epoch 41/100:\n",
      "Train Emotion Accuracy: 0.1934 Recall: 0.1667 F1-score: 0.0540\n",
      "Train Situation Accuracy: 0.1996 Recall: 0.0838 F1-score: 0.0286\n",
      "Test Emotion Accuracy: 0.1836 Recall: 0.1607 F1-score: 0.0733\n",
      "Test Situation Accuracy: 0.2241 Recall: 0.0833 F1-score: 0.0305\n",
      "\n"
     ]
    },
    {
     "name": "stderr",
     "output_type": "stream",
     "text": [
      "                                                                                \r"
     ]
    },
    {
     "name": "stdout",
     "output_type": "stream",
     "text": [
      "Epoch 42/100:\n",
      "Train Emotion Accuracy: 0.1923 Recall: 0.1797 F1-score: 0.0938\n",
      "Train Situation Accuracy: 0.1993 Recall: 0.0836 F1-score: 0.0282\n",
      "Test Emotion Accuracy: 0.1543 Recall: 0.1714 F1-score: 0.0580\n",
      "Test Situation Accuracy: 0.2241 Recall: 0.0833 F1-score: 0.0305\n",
      "\n"
     ]
    },
    {
     "name": "stderr",
     "output_type": "stream",
     "text": [
      "                                                                                \r"
     ]
    },
    {
     "name": "stdout",
     "output_type": "stream",
     "text": [
      "Epoch 43/100:\n",
      "Train Emotion Accuracy: 0.1934 Recall: 0.1667 F1-score: 0.0540\n",
      "Train Situation Accuracy: 0.1993 Recall: 0.0836 F1-score: 0.0282\n",
      "Test Emotion Accuracy: 0.1700 Recall: 0.1569 F1-score: 0.0800\n",
      "Test Situation Accuracy: 0.2241 Recall: 0.0833 F1-score: 0.0305\n",
      "\n"
     ]
    },
    {
     "name": "stderr",
     "output_type": "stream",
     "text": [
      "                                                                                \r"
     ]
    },
    {
     "name": "stdout",
     "output_type": "stream",
     "text": [
      "Epoch 44/100:\n",
      "Train Emotion Accuracy: 0.1923 Recall: 0.1795 F1-score: 0.0937\n",
      "Train Situation Accuracy: 0.1993 Recall: 0.0836 F1-score: 0.0282\n",
      "Test Emotion Accuracy: 0.1622 Recall: 0.1739 F1-score: 0.0763\n",
      "Test Situation Accuracy: 0.2241 Recall: 0.0833 F1-score: 0.0305\n",
      "\n"
     ]
    },
    {
     "name": "stderr",
     "output_type": "stream",
     "text": [
      "                                                                                \r"
     ]
    },
    {
     "name": "stdout",
     "output_type": "stream",
     "text": [
      "Epoch 45/100:\n",
      "Train Emotion Accuracy: 0.1934 Recall: 0.1667 F1-score: 0.0540\n",
      "Train Situation Accuracy: 0.1990 Recall: 0.0833 F1-score: 0.0277\n",
      "Test Emotion Accuracy: 0.1813 Recall: 0.1565 F1-score: 0.0667\n",
      "Test Situation Accuracy: 0.2241 Recall: 0.0833 F1-score: 0.0305\n",
      "\n"
     ]
    },
    {
     "name": "stderr",
     "output_type": "stream",
     "text": [
      "                                                                                \r"
     ]
    },
    {
     "name": "stdout",
     "output_type": "stream",
     "text": [
      "Epoch 46/100:\n",
      "Train Emotion Accuracy: 0.1917 Recall: 0.1792 F1-score: 0.0935\n",
      "Train Situation Accuracy: 0.1996 Recall: 0.0838 F1-score: 0.0286\n",
      "Test Emotion Accuracy: 0.1486 Recall: 0.1673 F1-score: 0.0464\n",
      "Test Situation Accuracy: 0.2241 Recall: 0.0833 F1-score: 0.0305\n",
      "\n"
     ]
    },
    {
     "name": "stderr",
     "output_type": "stream",
     "text": [
      "                                                                                \r"
     ]
    },
    {
     "name": "stdout",
     "output_type": "stream",
     "text": [
      "Epoch 47/100:\n",
      "Train Emotion Accuracy: 0.1934 Recall: 0.1667 F1-score: 0.0540\n",
      "Train Situation Accuracy: 0.1990 Recall: 0.0833 F1-score: 0.0277\n",
      "Test Emotion Accuracy: 0.1802 Recall: 0.1594 F1-score: 0.0755\n",
      "Test Situation Accuracy: 0.2241 Recall: 0.0833 F1-score: 0.0305\n",
      "\n"
     ]
    },
    {
     "name": "stderr",
     "output_type": "stream",
     "text": [
      "                                                                                \r"
     ]
    },
    {
     "name": "stdout",
     "output_type": "stream",
     "text": [
      "Epoch 48/100:\n",
      "Train Emotion Accuracy: 0.1926 Recall: 0.1799 F1-score: 0.0939\n",
      "Train Situation Accuracy: 0.1993 Recall: 0.0836 F1-score: 0.0282\n",
      "Test Emotion Accuracy: 0.1599 Recall: 0.1727 F1-score: 0.0734\n",
      "Test Situation Accuracy: 0.2241 Recall: 0.0833 F1-score: 0.0305\n",
      "\n"
     ]
    },
    {
     "name": "stderr",
     "output_type": "stream",
     "text": [
      "                                                                                \r"
     ]
    },
    {
     "name": "stdout",
     "output_type": "stream",
     "text": [
      "Epoch 49/100:\n",
      "Train Emotion Accuracy: 0.1934 Recall: 0.1667 F1-score: 0.0540\n",
      "Train Situation Accuracy: 0.1993 Recall: 0.0836 F1-score: 0.0282\n",
      "Test Emotion Accuracy: 0.1937 Recall: 0.1641 F1-score: 0.0571\n",
      "Test Situation Accuracy: 0.2241 Recall: 0.0833 F1-score: 0.0305\n",
      "\n"
     ]
    },
    {
     "name": "stderr",
     "output_type": "stream",
     "text": [
      "                                                                                \r"
     ]
    },
    {
     "name": "stdout",
     "output_type": "stream",
     "text": [
      "Epoch 50/100:\n",
      "Train Emotion Accuracy: 0.1934 Recall: 0.1667 F1-score: 0.0540\n",
      "Train Situation Accuracy: 0.1996 Recall: 0.0838 F1-score: 0.0286\n",
      "Test Emotion Accuracy: 0.1700 Recall: 0.1569 F1-score: 0.0800\n",
      "Test Situation Accuracy: 0.2241 Recall: 0.0833 F1-score: 0.0305\n",
      "\n"
     ]
    },
    {
     "name": "stderr",
     "output_type": "stream",
     "text": [
      "                                                                                \r"
     ]
    },
    {
     "name": "stdout",
     "output_type": "stream",
     "text": [
      "Epoch 51/100:\n",
      "Train Emotion Accuracy: 0.1923 Recall: 0.1797 F1-score: 0.0938\n",
      "Train Situation Accuracy: 0.1993 Recall: 0.0836 F1-score: 0.0282\n",
      "Test Emotion Accuracy: 0.1520 Recall: 0.1698 F1-score: 0.0534\n",
      "Test Situation Accuracy: 0.2241 Recall: 0.0833 F1-score: 0.0305\n",
      "\n"
     ]
    },
    {
     "name": "stderr",
     "output_type": "stream",
     "text": [
      "                                                                                \r"
     ]
    },
    {
     "name": "stdout",
     "output_type": "stream",
     "text": [
      "Epoch 52/100:\n",
      "Train Emotion Accuracy: 0.1934 Recall: 0.1667 F1-score: 0.0540\n",
      "Train Situation Accuracy: 0.1996 Recall: 0.0838 F1-score: 0.0286\n",
      "Test Emotion Accuracy: 0.1813 Recall: 0.1565 F1-score: 0.0667\n",
      "Test Situation Accuracy: 0.2241 Recall: 0.0833 F1-score: 0.0305\n",
      "\n"
     ]
    },
    {
     "name": "stderr",
     "output_type": "stream",
     "text": [
      "                                                                                \r"
     ]
    },
    {
     "name": "stdout",
     "output_type": "stream",
     "text": [
      "Epoch 53/100:\n",
      "Train Emotion Accuracy: 0.1934 Recall: 0.1667 F1-score: 0.0540\n",
      "Train Situation Accuracy: 0.1990 Recall: 0.0833 F1-score: 0.0277\n",
      "Test Emotion Accuracy: 0.1757 Recall: 0.1572 F1-score: 0.0766\n",
      "Test Situation Accuracy: 0.2241 Recall: 0.0833 F1-score: 0.0305\n",
      "\n"
     ]
    },
    {
     "name": "stderr",
     "output_type": "stream",
     "text": [
      "                                                                                \r"
     ]
    },
    {
     "name": "stdout",
     "output_type": "stream",
     "text": [
      "Epoch 54/100:\n",
      "Train Emotion Accuracy: 0.1917 Recall: 0.1792 F1-score: 0.0935\n",
      "Train Situation Accuracy: 0.1990 Recall: 0.0833 F1-score: 0.0277\n",
      "Test Emotion Accuracy: 0.1475 Recall: 0.1667 F1-score: 0.0429\n",
      "Test Situation Accuracy: 0.2241 Recall: 0.0833 F1-score: 0.0305\n",
      "\n"
     ]
    },
    {
     "name": "stderr",
     "output_type": "stream",
     "text": [
      "                                                                                \r"
     ]
    },
    {
     "name": "stdout",
     "output_type": "stream",
     "text": [
      "Epoch 55/100:\n",
      "Train Emotion Accuracy: 0.1934 Recall: 0.1667 F1-score: 0.0540\n",
      "Train Situation Accuracy: 0.1990 Recall: 0.0833 F1-score: 0.0277\n",
      "Test Emotion Accuracy: 0.1745 Recall: 0.1566 F1-score: 0.0766\n",
      "Test Situation Accuracy: 0.2241 Recall: 0.0833 F1-score: 0.0305\n",
      "\n"
     ]
    },
    {
     "name": "stderr",
     "output_type": "stream",
     "text": [
      "                                                                                \r"
     ]
    },
    {
     "name": "stdout",
     "output_type": "stream",
     "text": [
      "Epoch 56/100:\n",
      "Train Emotion Accuracy: 0.1917 Recall: 0.1792 F1-score: 0.0935\n",
      "Train Situation Accuracy: 0.1990 Recall: 0.0833 F1-score: 0.0277\n",
      "Test Emotion Accuracy: 0.1475 Recall: 0.1667 F1-score: 0.0429\n",
      "Test Situation Accuracy: 0.2241 Recall: 0.0833 F1-score: 0.0305\n",
      "\n"
     ]
    },
    {
     "name": "stderr",
     "output_type": "stream",
     "text": [
      "                                                                                \r"
     ]
    },
    {
     "name": "stdout",
     "output_type": "stream",
     "text": [
      "Epoch 57/100:\n",
      "Train Emotion Accuracy: 0.1906 Recall: 0.1785 F1-score: 0.0966\n",
      "Train Situation Accuracy: 0.1990 Recall: 0.0833 F1-score: 0.0277\n",
      "Test Emotion Accuracy: 0.1475 Recall: 0.1660 F1-score: 0.0461\n",
      "Test Situation Accuracy: 0.2241 Recall: 0.0833 F1-score: 0.0305\n",
      "\n"
     ]
    },
    {
     "name": "stderr",
     "output_type": "stream",
     "text": [
      "                                                                                \r"
     ]
    },
    {
     "name": "stdout",
     "output_type": "stream",
     "text": [
      "Epoch 58/100:\n",
      "Train Emotion Accuracy: 0.1920 Recall: 0.1794 F1-score: 0.0947\n",
      "Train Situation Accuracy: 0.1990 Recall: 0.0833 F1-score: 0.0277\n",
      "Test Emotion Accuracy: 0.1610 Recall: 0.1730 F1-score: 0.0753\n",
      "Test Situation Accuracy: 0.2241 Recall: 0.0833 F1-score: 0.0305\n",
      "\n"
     ]
    },
    {
     "name": "stderr",
     "output_type": "stream",
     "text": [
      "                                                                                \r"
     ]
    },
    {
     "name": "stdout",
     "output_type": "stream",
     "text": [
      "Epoch 59/100:\n",
      "Train Emotion Accuracy: 0.1940 Recall: 0.1673 F1-score: 0.0552\n",
      "Train Situation Accuracy: 0.1990 Recall: 0.0833 F1-score: 0.0277\n",
      "Test Emotion Accuracy: 0.1633 Recall: 0.1544 F1-score: 0.0801\n",
      "Test Situation Accuracy: 0.2241 Recall: 0.0833 F1-score: 0.0305\n",
      "\n"
     ]
    },
    {
     "name": "stderr",
     "output_type": "stream",
     "text": [
      "                                                                                \r"
     ]
    },
    {
     "name": "stdout",
     "output_type": "stream",
     "text": [
      "Epoch 60/100:\n",
      "Train Emotion Accuracy: 0.1926 Recall: 0.1799 F1-score: 0.0939\n",
      "Train Situation Accuracy: 0.1990 Recall: 0.0833 F1-score: 0.0277\n",
      "Test Emotion Accuracy: 0.1543 Recall: 0.1698 F1-score: 0.0633\n",
      "Test Situation Accuracy: 0.2241 Recall: 0.0833 F1-score: 0.0305\n",
      "\n"
     ]
    },
    {
     "name": "stderr",
     "output_type": "stream",
     "text": [
      "                                                                                \r"
     ]
    },
    {
     "name": "stdout",
     "output_type": "stream",
     "text": [
      "Epoch 61/100:\n",
      "Train Emotion Accuracy: 0.1937 Recall: 0.1670 F1-score: 0.0552\n",
      "Train Situation Accuracy: 0.1990 Recall: 0.0833 F1-score: 0.0277\n",
      "Test Emotion Accuracy: 0.1734 Recall: 0.1598 F1-score: 0.0814\n",
      "Test Situation Accuracy: 0.2241 Recall: 0.0833 F1-score: 0.0305\n",
      "\n"
     ]
    },
    {
     "name": "stderr",
     "output_type": "stream",
     "text": [
      "                                                                                \r"
     ]
    },
    {
     "name": "stdout",
     "output_type": "stream",
     "text": [
      "Epoch 62/100:\n",
      "Train Emotion Accuracy: 0.1943 Recall: 0.1676 F1-score: 0.0558\n",
      "Train Situation Accuracy: 0.1990 Recall: 0.0833 F1-score: 0.0277\n",
      "Test Emotion Accuracy: 0.1768 Recall: 0.1604 F1-score: 0.0800\n",
      "Test Situation Accuracy: 0.2241 Recall: 0.0833 F1-score: 0.0305\n",
      "\n"
     ]
    },
    {
     "name": "stderr",
     "output_type": "stream",
     "text": [
      "                                                                                \r"
     ]
    },
    {
     "name": "stdout",
     "output_type": "stream",
     "text": [
      "Epoch 63/100:\n",
      "Train Emotion Accuracy: 0.1937 Recall: 0.1672 F1-score: 0.0573\n",
      "Train Situation Accuracy: 0.1990 Recall: 0.0833 F1-score: 0.0277\n",
      "Test Emotion Accuracy: 0.1734 Recall: 0.1611 F1-score: 0.0826\n",
      "Test Situation Accuracy: 0.2241 Recall: 0.0833 F1-score: 0.0305\n",
      "\n"
     ]
    },
    {
     "name": "stderr",
     "output_type": "stream",
     "text": [
      "                                                                                \r"
     ]
    },
    {
     "name": "stdout",
     "output_type": "stream",
     "text": [
      "Epoch 64/100:\n",
      "Train Emotion Accuracy: 0.1914 Recall: 0.1793 F1-score: 0.0982\n",
      "Train Situation Accuracy: 0.1990 Recall: 0.0833 F1-score: 0.0277\n",
      "Test Emotion Accuracy: 0.1520 Recall: 0.1705 F1-score: 0.0505\n",
      "Test Situation Accuracy: 0.2241 Recall: 0.0833 F1-score: 0.0305\n",
      "\n"
     ]
    },
    {
     "name": "stderr",
     "output_type": "stream",
     "text": [
      "                                                                                \r"
     ]
    },
    {
     "name": "stdout",
     "output_type": "stream",
     "text": [
      "Epoch 65/100:\n",
      "Train Emotion Accuracy: 0.1937 Recall: 0.1672 F1-score: 0.0568\n",
      "Train Situation Accuracy: 0.1990 Recall: 0.0833 F1-score: 0.0277\n",
      "Test Emotion Accuracy: 0.1655 Recall: 0.1614 F1-score: 0.0838\n",
      "Test Situation Accuracy: 0.2241 Recall: 0.0833 F1-score: 0.0305\n",
      "\n"
     ]
    },
    {
     "name": "stderr",
     "output_type": "stream",
     "text": [
      "                                                                                \r"
     ]
    },
    {
     "name": "stdout",
     "output_type": "stream",
     "text": [
      "Epoch 66/100:\n",
      "Train Emotion Accuracy: 0.1943 Recall: 0.1677 F1-score: 0.0569\n",
      "Train Situation Accuracy: 0.1990 Recall: 0.0833 F1-score: 0.0277\n",
      "Test Emotion Accuracy: 0.1667 Recall: 0.1624 F1-score: 0.0843\n",
      "Test Situation Accuracy: 0.2241 Recall: 0.0833 F1-score: 0.0305\n",
      "\n"
     ]
    },
    {
     "name": "stderr",
     "output_type": "stream",
     "text": [
      "                                                                                \r"
     ]
    },
    {
     "name": "stdout",
     "output_type": "stream",
     "text": [
      "Epoch 67/100:\n",
      "Train Emotion Accuracy: 0.1951 Recall: 0.1860 F1-score: 0.1072\n",
      "Train Situation Accuracy: 0.1990 Recall: 0.0833 F1-score: 0.0277\n",
      "Test Emotion Accuracy: 0.1475 Recall: 0.1667 F1-score: 0.0429\n",
      "Test Situation Accuracy: 0.2241 Recall: 0.0833 F1-score: 0.0305\n",
      "\n"
     ]
    },
    {
     "name": "stderr",
     "output_type": "stream",
     "text": [
      "                                                                                \r"
     ]
    },
    {
     "name": "stdout",
     "output_type": "stream",
     "text": [
      "Epoch 68/100:\n",
      "Train Emotion Accuracy: 0.1920 Recall: 0.1795 F1-score: 0.0948\n",
      "Train Situation Accuracy: 0.1990 Recall: 0.0833 F1-score: 0.0277\n",
      "Test Emotion Accuracy: 0.1588 Recall: 0.1733 F1-score: 0.0693\n",
      "Test Situation Accuracy: 0.2241 Recall: 0.0833 F1-score: 0.0305\n",
      "\n"
     ]
    },
    {
     "name": "stderr",
     "output_type": "stream",
     "text": [
      "                                                                                \r"
     ]
    },
    {
     "name": "stdout",
     "output_type": "stream",
     "text": [
      "Epoch 69/100:\n",
      "Train Emotion Accuracy: 0.1920 Recall: 0.1795 F1-score: 0.0948\n",
      "Train Situation Accuracy: 0.1990 Recall: 0.0833 F1-score: 0.0277\n",
      "Test Emotion Accuracy: 0.1520 Recall: 0.1676 F1-score: 0.0618\n",
      "Test Situation Accuracy: 0.2241 Recall: 0.0833 F1-score: 0.0305\n",
      "\n"
     ]
    },
    {
     "name": "stderr",
     "output_type": "stream",
     "text": [
      "                                                                                \r"
     ]
    },
    {
     "name": "stdout",
     "output_type": "stream",
     "text": [
      "Epoch 70/100:\n",
      "Train Emotion Accuracy: 0.1912 Recall: 0.1788 F1-score: 0.0935\n",
      "Train Situation Accuracy: 0.1990 Recall: 0.0833 F1-score: 0.0277\n",
      "Test Emotion Accuracy: 0.1498 Recall: 0.1686 F1-score: 0.0467\n",
      "Test Situation Accuracy: 0.2241 Recall: 0.0833 F1-score: 0.0305\n",
      "\n"
     ]
    },
    {
     "name": "stderr",
     "output_type": "stream",
     "text": [
      "                                                                                \r"
     ]
    },
    {
     "name": "stdout",
     "output_type": "stream",
     "text": [
      "Epoch 71/100:\n",
      "Train Emotion Accuracy: 0.1962 Recall: 0.1702 F1-score: 0.0692\n",
      "Train Situation Accuracy: 0.1993 Recall: 0.0836 F1-score: 0.0282\n",
      "Test Emotion Accuracy: 0.1712 Recall: 0.1553 F1-score: 0.0776\n",
      "Test Situation Accuracy: 0.2241 Recall: 0.0833 F1-score: 0.0305\n",
      "\n"
     ]
    },
    {
     "name": "stderr",
     "output_type": "stream",
     "text": [
      "                                                                                \r"
     ]
    },
    {
     "name": "stdout",
     "output_type": "stream",
     "text": [
      "Epoch 72/100:\n",
      "Train Emotion Accuracy: 0.1926 Recall: 0.1816 F1-score: 0.1124\n",
      "Train Situation Accuracy: 0.1990 Recall: 0.0833 F1-score: 0.0277\n",
      "Test Emotion Accuracy: 0.1610 Recall: 0.1746 F1-score: 0.0726\n",
      "Test Situation Accuracy: 0.2241 Recall: 0.0833 F1-score: 0.0305\n",
      "\n"
     ]
    },
    {
     "name": "stderr",
     "output_type": "stream",
     "text": [
      "                                                                                \r"
     ]
    },
    {
     "name": "stdout",
     "output_type": "stream",
     "text": [
      "Epoch 73/100:\n",
      "Train Emotion Accuracy: 0.1962 Recall: 0.1702 F1-score: 0.0692\n",
      "Train Situation Accuracy: 0.1996 Recall: 0.0838 F1-score: 0.0286\n",
      "Test Emotion Accuracy: 0.1723 Recall: 0.1588 F1-score: 0.0810\n",
      "Test Situation Accuracy: 0.2241 Recall: 0.0833 F1-score: 0.0305\n",
      "\n"
     ]
    },
    {
     "name": "stderr",
     "output_type": "stream",
     "text": [
      "                                                                                \r"
     ]
    },
    {
     "name": "stdout",
     "output_type": "stream",
     "text": [
      "Epoch 74/100:\n",
      "Train Emotion Accuracy: 0.1943 Recall: 0.1680 F1-score: 0.0619\n",
      "Train Situation Accuracy: 0.1990 Recall: 0.0833 F1-score: 0.0277\n",
      "Test Emotion Accuracy: 0.1700 Recall: 0.1608 F1-score: 0.0836\n",
      "Test Situation Accuracy: 0.2241 Recall: 0.0833 F1-score: 0.0305\n",
      "\n"
     ]
    },
    {
     "name": "stderr",
     "output_type": "stream",
     "text": [
      "                                                                                \r"
     ]
    },
    {
     "name": "stdout",
     "output_type": "stream",
     "text": [
      "Epoch 75/100:\n",
      "Train Emotion Accuracy: 0.1951 Recall: 0.1856 F1-score: 0.1228\n",
      "Train Situation Accuracy: 0.1996 Recall: 0.0838 F1-score: 0.0286\n",
      "Test Emotion Accuracy: 0.1565 Recall: 0.1714 F1-score: 0.0670\n",
      "Test Situation Accuracy: 0.2241 Recall: 0.0833 F1-score: 0.0305\n",
      "\n"
     ]
    },
    {
     "name": "stderr",
     "output_type": "stream",
     "text": [
      "                                                                                \r"
     ]
    },
    {
     "name": "stdout",
     "output_type": "stream",
     "text": [
      "Epoch 76/100:\n",
      "Train Emotion Accuracy: 0.1957 Recall: 0.1708 F1-score: 0.0787\n",
      "Train Situation Accuracy: 0.1990 Recall: 0.0833 F1-score: 0.0277\n",
      "Test Emotion Accuracy: 0.1723 Recall: 0.1671 F1-score: 0.0873\n",
      "Test Situation Accuracy: 0.2241 Recall: 0.0833 F1-score: 0.0305\n",
      "\n"
     ]
    },
    {
     "name": "stderr",
     "output_type": "stream",
     "text": [
      "                                                                                \r"
     ]
    },
    {
     "name": "stdout",
     "output_type": "stream",
     "text": [
      "Epoch 77/100:\n",
      "Train Emotion Accuracy: 0.1951 Recall: 0.1689 F1-score: 0.0636\n",
      "Train Situation Accuracy: 0.1990 Recall: 0.0833 F1-score: 0.0277\n",
      "Test Emotion Accuracy: 0.1678 Recall: 0.1624 F1-score: 0.0851\n",
      "Test Situation Accuracy: 0.2241 Recall: 0.0833 F1-score: 0.0305\n",
      "\n"
     ]
    },
    {
     "name": "stderr",
     "output_type": "stream",
     "text": [
      "                                                                                \r"
     ]
    },
    {
     "name": "stdout",
     "output_type": "stream",
     "text": [
      "Epoch 78/100:\n",
      "Train Emotion Accuracy: 0.1951 Recall: 0.1848 F1-score: 0.1192\n",
      "Train Situation Accuracy: 0.1990 Recall: 0.0833 F1-score: 0.0277\n",
      "Test Emotion Accuracy: 0.1577 Recall: 0.1717 F1-score: 0.0698\n",
      "Test Situation Accuracy: 0.2241 Recall: 0.0833 F1-score: 0.0305\n",
      "\n"
     ]
    },
    {
     "name": "stderr",
     "output_type": "stream",
     "text": [
      "                                                                                \r"
     ]
    },
    {
     "name": "stdout",
     "output_type": "stream",
     "text": [
      "Epoch 79/100:\n",
      "Train Emotion Accuracy: 0.1945 Recall: 0.1695 F1-score: 0.0756\n",
      "Train Situation Accuracy: 0.1990 Recall: 0.0833 F1-score: 0.0277\n",
      "Test Emotion Accuracy: 0.1779 Recall: 0.1578 F1-score: 0.0753\n",
      "Test Situation Accuracy: 0.2241 Recall: 0.0833 F1-score: 0.0305\n",
      "\n"
     ]
    },
    {
     "name": "stderr",
     "output_type": "stream",
     "text": [
      "                                                                                \r"
     ]
    },
    {
     "name": "stdout",
     "output_type": "stream",
     "text": [
      "Epoch 80/100:\n",
      "Train Emotion Accuracy: 0.1962 Recall: 0.1702 F1-score: 0.0692\n",
      "Train Situation Accuracy: 0.1996 Recall: 0.0838 F1-score: 0.0286\n",
      "Test Emotion Accuracy: 0.1757 Recall: 0.1505 F1-score: 0.0609\n",
      "Test Situation Accuracy: 0.2241 Recall: 0.0833 F1-score: 0.0305\n",
      "\n"
     ]
    },
    {
     "name": "stderr",
     "output_type": "stream",
     "text": [
      "                                                                                \r"
     ]
    },
    {
     "name": "stdout",
     "output_type": "stream",
     "text": [
      "Epoch 81/100:\n",
      "Train Emotion Accuracy: 0.1937 Recall: 0.1829 F1-score: 0.1148\n",
      "Train Situation Accuracy: 0.1990 Recall: 0.0833 F1-score: 0.0277\n",
      "Test Emotion Accuracy: 0.1588 Recall: 0.1724 F1-score: 0.0718\n",
      "Test Situation Accuracy: 0.2241 Recall: 0.0833 F1-score: 0.0305\n",
      "\n"
     ]
    },
    {
     "name": "stderr",
     "output_type": "stream",
     "text": [
      "                                                                                \r"
     ]
    },
    {
     "name": "stdout",
     "output_type": "stream",
     "text": [
      "Epoch 82/100:\n",
      "Train Emotion Accuracy: 0.1971 Recall: 0.1712 F1-score: 0.0714\n",
      "Train Situation Accuracy: 0.1990 Recall: 0.0833 F1-score: 0.0277\n",
      "Test Emotion Accuracy: 0.1655 Recall: 0.1608 F1-score: 0.0843\n",
      "Test Situation Accuracy: 0.2241 Recall: 0.0833 F1-score: 0.0305\n",
      "\n"
     ]
    },
    {
     "name": "stderr",
     "output_type": "stream",
     "text": [
      "                                                                                \r"
     ]
    },
    {
     "name": "stdout",
     "output_type": "stream",
     "text": [
      "Epoch 83/100:\n",
      "Train Emotion Accuracy: 0.1948 Recall: 0.1683 F1-score: 0.0591\n",
      "Train Situation Accuracy: 0.1990 Recall: 0.0833 F1-score: 0.0277\n",
      "Test Emotion Accuracy: 0.1802 Recall: 0.1607 F1-score: 0.0777\n",
      "Test Situation Accuracy: 0.2241 Recall: 0.0833 F1-score: 0.0305\n",
      "\n"
     ]
    },
    {
     "name": "stderr",
     "output_type": "stream",
     "text": [
      "                                                                                \r"
     ]
    },
    {
     "name": "stdout",
     "output_type": "stream",
     "text": [
      "Epoch 84/100:\n",
      "Train Emotion Accuracy: 0.1968 Recall: 0.1729 F1-score: 0.0861\n",
      "Train Situation Accuracy: 0.1990 Recall: 0.0833 F1-score: 0.0277\n",
      "Test Emotion Accuracy: 0.1689 Recall: 0.1569 F1-score: 0.0808\n",
      "Test Situation Accuracy: 0.2241 Recall: 0.0833 F1-score: 0.0305\n",
      "\n"
     ]
    },
    {
     "name": "stderr",
     "output_type": "stream",
     "text": [
      "                                                                                \r"
     ]
    },
    {
     "name": "stdout",
     "output_type": "stream",
     "text": [
      "Epoch 85/100:\n",
      "Train Emotion Accuracy: 0.1948 Recall: 0.1833 F1-score: 0.1107\n",
      "Train Situation Accuracy: 0.1990 Recall: 0.0833 F1-score: 0.0277\n",
      "Test Emotion Accuracy: 0.1543 Recall: 0.1673 F1-score: 0.0697\n",
      "Test Situation Accuracy: 0.2241 Recall: 0.0833 F1-score: 0.0305\n",
      "\n"
     ]
    },
    {
     "name": "stderr",
     "output_type": "stream",
     "text": [
      "                                                                                \r"
     ]
    },
    {
     "name": "stdout",
     "output_type": "stream",
     "text": [
      "Epoch 86/100:\n",
      "Train Emotion Accuracy: 0.1934 Recall: 0.1825 F1-score: 0.1136\n",
      "Train Situation Accuracy: 0.1993 Recall: 0.0836 F1-score: 0.0282\n",
      "Test Emotion Accuracy: 0.1610 Recall: 0.1762 F1-score: 0.0706\n",
      "Test Situation Accuracy: 0.2241 Recall: 0.0833 F1-score: 0.0305\n",
      "\n"
     ]
    },
    {
     "name": "stderr",
     "output_type": "stream",
     "text": [
      "                                                                                \r"
     ]
    },
    {
     "name": "stdout",
     "output_type": "stream",
     "text": [
      "Epoch 87/100:\n",
      "Train Emotion Accuracy: 0.1985 Recall: 0.1752 F1-score: 0.0904\n",
      "Train Situation Accuracy: 0.1990 Recall: 0.0833 F1-score: 0.0277\n",
      "Test Emotion Accuracy: 0.1644 Recall: 0.1592 F1-score: 0.0838\n",
      "Test Situation Accuracy: 0.2241 Recall: 0.0833 F1-score: 0.0305\n",
      "\n"
     ]
    },
    {
     "name": "stderr",
     "output_type": "stream",
     "text": [
      "                                                                                \r"
     ]
    },
    {
     "name": "stdout",
     "output_type": "stream",
     "text": [
      "Epoch 88/100:\n",
      "Train Emotion Accuracy: 0.1957 Recall: 0.1693 F1-score: 0.0633\n",
      "Train Situation Accuracy: 0.1990 Recall: 0.0833 F1-score: 0.0277\n",
      "Test Emotion Accuracy: 0.1633 Recall: 0.1550 F1-score: 0.0810\n",
      "Test Situation Accuracy: 0.2241 Recall: 0.0833 F1-score: 0.0305\n",
      "\n"
     ]
    },
    {
     "name": "stderr",
     "output_type": "stream",
     "text": [
      "                                                                                \r"
     ]
    },
    {
     "name": "stdout",
     "output_type": "stream",
     "text": [
      "Epoch 89/100:\n",
      "Train Emotion Accuracy: 0.1951 Recall: 0.1703 F1-score: 0.0779\n",
      "Train Situation Accuracy: 0.1990 Recall: 0.0833 F1-score: 0.0277\n",
      "Test Emotion Accuracy: 0.1655 Recall: 0.1605 F1-score: 0.0843\n",
      "Test Situation Accuracy: 0.2241 Recall: 0.0833 F1-score: 0.0305\n",
      "\n"
     ]
    },
    {
     "name": "stderr",
     "output_type": "stream",
     "text": [
      "                                                                                \r"
     ]
    },
    {
     "name": "stdout",
     "output_type": "stream",
     "text": [
      "Epoch 90/100:\n",
      "Train Emotion Accuracy: 0.1948 Recall: 0.1829 F1-score: 0.1070\n",
      "Train Situation Accuracy: 0.1990 Recall: 0.0833 F1-score: 0.0277\n",
      "Test Emotion Accuracy: 0.1610 Recall: 0.1768 F1-score: 0.0686\n",
      "Test Situation Accuracy: 0.2241 Recall: 0.0833 F1-score: 0.0305\n",
      "\n"
     ]
    },
    {
     "name": "stderr",
     "output_type": "stream",
     "text": [
      "                                                                                \r"
     ]
    },
    {
     "name": "stdout",
     "output_type": "stream",
     "text": [
      "Epoch 91/100:\n",
      "Train Emotion Accuracy: 0.1971 Recall: 0.1712 F1-score: 0.0714\n",
      "Train Situation Accuracy: 0.1993 Recall: 0.0839 F1-score: 0.0288\n",
      "Test Emotion Accuracy: 0.1633 Recall: 0.1547 F1-score: 0.0810\n",
      "Test Situation Accuracy: 0.2241 Recall: 0.0833 F1-score: 0.0305\n",
      "\n"
     ]
    },
    {
     "name": "stderr",
     "output_type": "stream",
     "text": [
      "                                                                                \r"
     ]
    },
    {
     "name": "stdout",
     "output_type": "stream",
     "text": [
      "Epoch 92/100:\n",
      "Train Emotion Accuracy: 0.1957 Recall: 0.1862 F1-score: 0.1231\n",
      "Train Situation Accuracy: 0.1993 Recall: 0.0836 F1-score: 0.0282\n",
      "Test Emotion Accuracy: 0.1577 Recall: 0.1714 F1-score: 0.0711\n",
      "Test Situation Accuracy: 0.2241 Recall: 0.0833 F1-score: 0.0305\n",
      "\n"
     ]
    },
    {
     "name": "stderr",
     "output_type": "stream",
     "text": [
      "                                                                                \r"
     ]
    },
    {
     "name": "stdout",
     "output_type": "stream",
     "text": [
      "Epoch 93/100:\n",
      "Train Emotion Accuracy: 0.1954 Recall: 0.1691 F1-score: 0.0641\n",
      "Train Situation Accuracy: 0.1993 Recall: 0.0839 F1-score: 0.0288\n",
      "Test Emotion Accuracy: 0.1734 Recall: 0.1585 F1-score: 0.0800\n",
      "Test Situation Accuracy: 0.2241 Recall: 0.0833 F1-score: 0.0305\n",
      "\n"
     ]
    },
    {
     "name": "stderr",
     "output_type": "stream",
     "text": [
      "                                                                                \r"
     ]
    },
    {
     "name": "stdout",
     "output_type": "stream",
     "text": [
      "Epoch 94/100:\n",
      "Train Emotion Accuracy: 0.1934 Recall: 0.1813 F1-score: 0.1021\n",
      "Train Situation Accuracy: 0.1993 Recall: 0.0839 F1-score: 0.0288\n",
      "Test Emotion Accuracy: 0.1577 Recall: 0.1714 F1-score: 0.0709\n",
      "Test Situation Accuracy: 0.2241 Recall: 0.0833 F1-score: 0.0305\n",
      "\n"
     ]
    },
    {
     "name": "stderr",
     "output_type": "stream",
     "text": [
      "                                                                                \r"
     ]
    },
    {
     "name": "stdout",
     "output_type": "stream",
     "text": [
      "Epoch 95/100:\n",
      "Train Emotion Accuracy: 0.1943 Recall: 0.1841 F1-score: 0.1188\n",
      "Train Situation Accuracy: 0.1996 Recall: 0.0841 F1-score: 0.0293\n",
      "Test Emotion Accuracy: 0.1565 Recall: 0.1692 F1-score: 0.0720\n",
      "Test Situation Accuracy: 0.2241 Recall: 0.0833 F1-score: 0.0305\n",
      "\n"
     ]
    },
    {
     "name": "stderr",
     "output_type": "stream",
     "text": [
      "                                                                                \r"
     ]
    },
    {
     "name": "stdout",
     "output_type": "stream",
     "text": [
      "Epoch 96/100:\n",
      "Train Emotion Accuracy: 0.1931 Recall: 0.1822 F1-score: 0.1127\n",
      "Train Situation Accuracy: 0.1993 Recall: 0.0839 F1-score: 0.0288\n",
      "Test Emotion Accuracy: 0.1543 Recall: 0.1673 F1-score: 0.0696\n",
      "Test Situation Accuracy: 0.2241 Recall: 0.0833 F1-score: 0.0305\n",
      "\n"
     ]
    },
    {
     "name": "stderr",
     "output_type": "stream",
     "text": [
      "                                                                                \r"
     ]
    },
    {
     "name": "stdout",
     "output_type": "stream",
     "text": [
      "Epoch 97/100:\n",
      "Train Emotion Accuracy: 0.1951 Recall: 0.1847 F1-score: 0.1186\n",
      "Train Situation Accuracy: 0.1993 Recall: 0.0839 F1-score: 0.0288\n",
      "Test Emotion Accuracy: 0.1543 Recall: 0.1673 F1-score: 0.0698\n",
      "Test Situation Accuracy: 0.2241 Recall: 0.0833 F1-score: 0.0305\n",
      "\n"
     ]
    },
    {
     "name": "stderr",
     "output_type": "stream",
     "text": [
      "                                                                                \r"
     ]
    },
    {
     "name": "stdout",
     "output_type": "stream",
     "text": [
      "Epoch 98/100:\n",
      "Train Emotion Accuracy: 0.1971 Recall: 0.1712 F1-score: 0.0714\n",
      "Train Situation Accuracy: 0.1996 Recall: 0.0841 F1-score: 0.0293\n",
      "Test Emotion Accuracy: 0.1712 Recall: 0.1595 F1-score: 0.0822\n",
      "Test Situation Accuracy: 0.2241 Recall: 0.0833 F1-score: 0.0305\n",
      "\n"
     ]
    },
    {
     "name": "stderr",
     "output_type": "stream",
     "text": [
      "                                                                                \r"
     ]
    },
    {
     "name": "stdout",
     "output_type": "stream",
     "text": [
      "Epoch 99/100:\n",
      "Train Emotion Accuracy: 0.1959 Recall: 0.1866 F1-score: 0.1237\n",
      "Train Situation Accuracy: 0.1993 Recall: 0.0836 F1-score: 0.0282\n",
      "Test Emotion Accuracy: 0.1588 Recall: 0.1727 F1-score: 0.0714\n",
      "Test Situation Accuracy: 0.2241 Recall: 0.0833 F1-score: 0.0305\n",
      "\n"
     ]
    },
    {
     "name": "stderr",
     "output_type": "stream",
     "text": [
      "                                                                                 \r"
     ]
    },
    {
     "name": "stdout",
     "output_type": "stream",
     "text": [
      "Epoch 100/100:\n",
      "Train Emotion Accuracy: 0.1968 Recall: 0.1887 F1-score: 0.1283\n",
      "Train Situation Accuracy: 0.1993 Recall: 0.0839 F1-score: 0.0288\n",
      "Test Emotion Accuracy: 0.1599 Recall: 0.1739 F1-score: 0.0735\n",
      "Test Situation Accuracy: 0.2241 Recall: 0.0833 F1-score: 0.0305\n",
      "\n"
     ]
    }
   ],
   "source": [
    "# 학습 함수 정의\n",
    "num_epochs = 100\n",
    "train_acc_emotion_list = []\n",
    "train_acc_situation_list = []\n",
    "test_acc_emotion_list = []\n",
    "test_acc_situation_list = []\n",
    "\n",
    "model = model.to(device)  # 모델을 GPU로 이동\n",
    "\n",
    "for epoch in range(num_epochs):\n",
    "    model.train()\n",
    "    train_loss = 0.0\n",
    "\n",
    "    progress_bar = tqdm(train_dataloader, desc='Epoch {:02}/{:02}'.format(epoch+1, num_epochs), leave=False)\n",
    "    for batch in progress_bar:\n",
    "        input_ids1 = batch['input_ids1'].to(device)\n",
    "        input_ids2 = batch['input_ids2'].to(device)\n",
    "        input_ids3 = batch['input_ids3'].to(device)\n",
    "        emotion_labels = torch.tensor(emotion_encoder.transform(batch['emotion']), dtype=torch.long).to(device)\n",
    "        situation_labels = torch.tensor(situation_encoder.transform(batch['situation']), dtype=torch.long).to(device)\n",
    "\n",
    "        optimizer.zero_grad()\n",
    "        # input_ids1, input_ids2, input_ids3에 있는 토큰들을 최대 임베딩 크기보다 작은 값으로 clamp\n",
    "        input_ids1 = torch.clamp(input_ids1, max=vocab_size - 1)\n",
    "        input_ids2 = torch.clamp(input_ids2, max=vocab_size - 1)\n",
    "        input_ids3 = torch.clamp(input_ids3, max=vocab_size - 1)\n",
    "        \n",
    "        optimizer.zero_grad()\n",
    "        \n",
    "        # 문장1, 문장2, 문장3에 대해 각각 모델을 수행\n",
    "        emotion_logits1, situation_logits1 = model(input_ids1)\n",
    "        emotion_logits2, situation_logits2 = model(input_ids2)\n",
    "        emotion_logits3, situation_logits3 = model(input_ids3)\n",
    "\n",
    "        # 세 모델의 출력값을 평균 또는 최댓값으로 통합하여 최종 출력값 계산\n",
    "        emotion_logits = (emotion_logits1 + emotion_logits2 + emotion_logits3) / 3\n",
    "        situation_logits = (situation_logits1 + situation_logits2 + situation_logits3) / 3\n",
    "        \n",
    "        emotion_loss = criterion(emotion_logits, emotion_labels)\n",
    "        situation_loss = criterion(situation_logits, situation_labels)\n",
    "        loss = emotion_loss + situation_loss\n",
    "\n",
    "        loss.backward()\n",
    "        optimizer.step()\n",
    "\n",
    "        train_loss += loss.item() * input_ids1.size(0)\n",
    "        progress_bar.set_postfix({'train_loss': train_loss / len(train_dataset)})\n",
    "\n",
    "    # 검증\n",
    "    model.eval()\n",
    "    test_loss = 0.0\n",
    "    with torch.no_grad():\n",
    "        for batch in test_dataloader:\n",
    "            input_ids1 = batch['input_ids1'].to(device)\n",
    "            input_ids2 = batch['input_ids2'].to(device)\n",
    "            input_ids3 = batch['input_ids3'].to(device)\n",
    "            emotion_labels = torch.tensor(emotion_encoder.transform(batch['emotion']), dtype=torch.long).to(device)\n",
    "            situation_labels = torch.tensor(situation_encoder.transform(batch['situation']), dtype=torch.long).to(device)\n",
    "            \n",
    "            # input_ids1, input_ids2, input_ids3에 있는 토큰들을 최대 임베딩 크기보다 작은 값으로 clamp\n",
    "            input_ids1 = torch.clamp(input_ids1, max=vocab_size - 1)\n",
    "            input_ids2 = torch.clamp(input_ids2, max=vocab_size - 1)\n",
    "            input_ids3 = torch.clamp(input_ids3, max=vocab_size - 1)\n",
    "                        \n",
    "            # 문장1, 문장2, 문장3에 대해 각각 모델을 수행\n",
    "            emotion_logits1, situation_logits1 = model(input_ids1)\n",
    "            emotion_logits2, situation_logits2 = model(input_ids2)\n",
    "            emotion_logits3, situation_logits3 = model(input_ids3)\n",
    "\n",
    "            # 세 모델의 출력값을 평균 또는 최댓값으로 통합하여 최종 출력값 계산\n",
    "            emotion_logits = (emotion_logits1 + emotion_logits2 + emotion_logits3) / 3\n",
    "            situation_logits = (situation_logits1 + situation_logits2 + situation_logits3) / 3\n",
    "\n",
    "            emotion_loss = criterion(emotion_logits, emotion_labels)\n",
    "            situation_loss = criterion(situation_logits, situation_labels)\n",
    "            loss = emotion_loss + situation_loss\n",
    "\n",
    "            test_loss += loss.item() * input_ids1.size(0)\n",
    "\n",
    "    # 학습 데이터에 대한 평가\n",
    "    train_accuracy_emotion, train_recall_emotion, train_f1_emotion, train_accuracy_situation, train_recall_situation, train_f1_situation = evaluate(model, train_dataloader)\n",
    "    # 테스트 데이터에 대한 평가\n",
    "    test_accuracy_emotion, test_recall_emotion, test_f1_emotion, test_accuracy_situation, test_recall_situation, test_f1_situation = evaluate(model, test_dataloader)\n",
    "\n",
    "    # Append accuracy values to the lists\n",
    "    train_acc_emotion_list.append(train_accuracy_emotion)\n",
    "    train_acc_situation_list.append(train_accuracy_situation)\n",
    "    test_acc_emotion_list.append(test_accuracy_emotion)\n",
    "    test_acc_situation_list.append(test_accuracy_situation)\n",
    "\n",
    "    print(f\"Epoch {epoch+1}/{num_epochs}:\")\n",
    "    print(f\"Train Emotion Accuracy: {train_accuracy_emotion:.4f} Recall: {train_recall_emotion:.4f} F1-score: {train_f1_emotion:.4f}\")\n",
    "    print(f\"Train Situation Accuracy: {train_accuracy_situation:.4f} Recall: {train_recall_situation:.4f} F1-score: {train_f1_situation:.4f}\")\n",
    "    print(f\"Test Emotion Accuracy: {test_accuracy_emotion:.4f} Recall: {test_recall_emotion:.4f} F1-score: {test_f1_emotion:.4f}\")\n",
    "    print(f\"Test Situation Accuracy: {test_accuracy_situation:.4f} Recall: {test_recall_situation:.4f} F1-score: {test_f1_situation:.4f}\")\n",
    "    print()"
   ]
  },
  {
   "cell_type": "code",
   "execution_count": 11,
   "metadata": {},
   "outputs": [
    {
     "data": {
      "image/png": "[encoded data removed]",
      "text/plain": [
       "<Figure size 640x480 with 1 Axes>"
      ]
     },
     "metadata": {},
     "output_type": "display_data"
    }
   ],
   "source": [
    "# Plotting the accuracy trend\n",
    "epochs = range(1, num_epochs+1)\n",
    "\n",
    "plt.plot(epochs, train_acc_emotion_list, label='Train Emotion Accuracy')\n",
    "plt.plot(epochs, train_acc_situation_list, label='Train Situation Accuracy')\n",
    "plt.plot(epochs, test_acc_emotion_list, label='Test Emotion Accuracy')\n",
    "plt.plot(epochs, test_acc_situation_list, label='Test Situation Accuracy')\n",
    "\n",
    "plt.title('Accuracy Trend')\n",
    "plt.xlabel('Epochs')\n",
    "plt.ylabel('Accuracy')\n",
    "plt.legend()\n",
    "plt.show()"
   ]
  },
  {
   "cell_type": "code",
   "execution_count": null,
   "metadata": {},
   "outputs": [],
   "source": []
  },
  {
   "cell_type": "code",
   "execution_count": null,
   "metadata": {},
   "outputs": [],
   "source": [
    "# 학습된 모델로 예측 수행\n",
    "def predict_sentiment(model, sentence):\n",
    "    model.eval()\n",
    "\n",
    "    inputs = tokenizer.encode_plus(\n",
    "        sentence,\n",
    "        add_special_tokens=True,\n",
    "        max_length=128,\n",
    "        padding='max_length',\n",
    "        truncation=True,\n",
    "        return_tensors='pt'\n",
    "    )\n",
    "\n",
    "    input_ids = inputs['input_ids']\n",
    "\n",
    "    emotion_logits, situation_logits = model(input_ids)\n",
    "    emotion_probs = nn.functional.softmax(emotion_logits, dim=1).squeeze().cpu().detach().numpy()\n",
    "    situation_probs = nn.functional.softmax(situation_logits, dim=1).squeeze().cpu().detach().numpy()\n",
    "\n",
    "    emotion_label = emotion_encoder.inverse_transform([emotion_probs.argmax()])\n",
    "    situation_label = situation_encoder.inverse_transform([situation_probs.argmax()])\n",
    "\n",
    "    return emotion_label[0], situation_label[0]"
   ]
  }
 ],
 "metadata": {
  "kernelspec": {
   "display_name": "torch_gpu",
   "language": "python",
   "name": "torch"
  },
  "language_info": {
   "codemirror_mode": {
    "name": "ipython",
    "version": 3
   },
   "file_extension": ".py",
   "mimetype": "text/x-python",
   "name": "python",
   "nbconvert_exporter": "python",
   "pygments_lexer": "ipython3",
   "version": "3.8.17"
  },
  "orig_nbformat": 4
 },
 "nbformat": 4,
 "nbformat_minor": 2
}
