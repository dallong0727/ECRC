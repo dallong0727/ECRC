{
 "cells": [
  {
   "cell_type": "code",
   "execution_count": 1,
   "metadata": {},
   "outputs": [
    {
     "name": "stderr",
     "output_type": "stream",
     "text": [
      "d:\\Code\\대학원\\Paper\\DAIC\\.venv\\lib\\site-packages\\tqdm\\auto.py:21: TqdmWarning: IProgress not found. Please update jupyter and ipywidgets. See https://ipywidgets.readthedocs.io/en/stable/user_install.html\n",
      "  from .autonotebook import tqdm as notebook_tqdm\n"
     ]
    }
   ],
   "source": [
    "import pandas as pd\n",
    "import numpy as np\n",
    "import os\n",
    "import torch\n",
    "\n",
    "data_dir = '../analysis_files/files/'\n",
    "device = torch.device('cuda' if torch.cuda.is_available() else 'cpu')"
   ]
  },
  {
   "cell_type": "code",
   "execution_count": 2,
   "metadata": {},
   "outputs": [],
   "source": [
    "Train_data = pd.read_csv(os.path.join(data_dir, 'emotion_label.csv'))"
   ]
  },
  {
   "cell_type": "code",
   "execution_count": 3,
   "metadata": {},
   "outputs": [
    {
     "data": {
      "text/html": [
       "<div>\n",
       "<style scoped>\n",
       "    .dataframe tbody tr th:only-of-type {\n",
       "        vertical-align: middle;\n",
       "    }\n",
       "\n",
       "    .dataframe tbody tr th {\n",
       "        vertical-align: top;\n",
       "    }\n",
       "\n",
       "    .dataframe thead th {\n",
       "        text-align: right;\n",
       "    }\n",
       "</style>\n",
       "<table border=\"1\" class=\"dataframe\">\n",
       "  <thead>\n",
       "    <tr style=\"text-align: right;\">\n",
       "      <th></th>\n",
       "      <th>사람문장</th>\n",
       "      <th>감정</th>\n",
       "      <th>원인</th>\n",
       "    </tr>\n",
       "  </thead>\n",
       "  <tbody>\n",
       "    <tr>\n",
       "      <th>0</th>\n",
       "      <td>일은 왜 해도 해도 끝이 없을까? 화가 난다.그냥 내가 해결하는 게 나아. 남들한테...</td>\n",
       "      <td>분노</td>\n",
       "      <td>진로,취업,직장</td>\n",
       "    </tr>\n",
       "    <tr>\n",
       "      <th>1</th>\n",
       "      <td>이번 달에 또 급여가 깎였어! 물가는 오르는데 월급만 자꾸 깎이니까 너무 화가 나....</td>\n",
       "      <td>분노</td>\n",
       "      <td>진로,취업,직장</td>\n",
       "    </tr>\n",
       "    <tr>\n",
       "      <th>2</th>\n",
       "      <td>회사에 신입이 들어왔는데 말투가 거슬려. 그런 애를 매일 봐야 한다고 생각하니까 스...</td>\n",
       "      <td>분노</td>\n",
       "      <td>진로,취업,직장</td>\n",
       "    </tr>\n",
       "    <tr>\n",
       "      <th>3</th>\n",
       "      <td>직장에서 막내라는 이유로 나에게만 온갖 심부름을 시켜. 일도 많은 데 정말 분하고 ...</td>\n",
       "      <td>분노</td>\n",
       "      <td>진로,취업,직장</td>\n",
       "    </tr>\n",
       "    <tr>\n",
       "      <th>4</th>\n",
       "      <td>얼마 전 입사한 신입사원이 나를 무시하는 것 같아서 너무 화가 나.상사인 나에게 먼...</td>\n",
       "      <td>분노</td>\n",
       "      <td>진로,취업,직장</td>\n",
       "    </tr>\n",
       "  </tbody>\n",
       "</table>\n",
       "</div>"
      ],
      "text/plain": [
       "                                                사람문장  감정        원인\n",
       "0  일은 왜 해도 해도 끝이 없을까? 화가 난다.그냥 내가 해결하는 게 나아. 남들한테...  분노  진로,취업,직장\n",
       "1  이번 달에 또 급여가 깎였어! 물가는 오르는데 월급만 자꾸 깎이니까 너무 화가 나....  분노  진로,취업,직장\n",
       "2  회사에 신입이 들어왔는데 말투가 거슬려. 그런 애를 매일 봐야 한다고 생각하니까 스...  분노  진로,취업,직장\n",
       "3  직장에서 막내라는 이유로 나에게만 온갖 심부름을 시켜. 일도 많은 데 정말 분하고 ...  분노  진로,취업,직장\n",
       "4  얼마 전 입사한 신입사원이 나를 무시하는 것 같아서 너무 화가 나.상사인 나에게 먼...  분노  진로,취업,직장"
      ]
     },
     "execution_count": 3,
     "metadata": {},
     "output_type": "execute_result"
    }
   ],
   "source": [
    "Train_data.head()"
   ]
  },
  {
   "cell_type": "code",
   "execution_count": 4,
   "metadata": {},
   "outputs": [
    {
     "data": {
      "text/plain": [
       "['분노', '기쁨', '불안', '당황', '슬픔', '상처', '중립', '불만', '혐오', '좌절', '짜증', '무기력', nan]"
      ]
     },
     "execution_count": 4,
     "metadata": {},
     "output_type": "execute_result"
    }
   ],
   "source": [
    "column_values = {}\n",
    "unique_values = Train_data['감정'].unique()\n",
    "column_values['emotion'] = list(unique_values)\n",
    "column_values['emotion']"
   ]
  },
  {
   "cell_type": "code",
   "execution_count": 5,
   "metadata": {},
   "outputs": [],
   "source": [
    "# 감정 라벨링 리스트 생성\n",
    "emotion_labels = ['분노', '기쁨', '불안', '당황', '슬픔', '상처', '중립', '불만', '혐오', '좌절', '짜증', '무기력', 0]\n",
    "\n",
    "# 감정 라벨링 함수 정의\n",
    "def label_emotion(emotion):\n",
    "    if pd.isnull(emotion):  # NaN인 경우 0으로 라벨링\n",
    "        return 0\n",
    "    else:\n",
    "        return emotion_labels.index(emotion) + 1\n",
    "\n",
    "# 감정 column 라벨링 적용\n",
    "Train_data['감정'] = Train_data['감정'].apply(label_emotion)"
   ]
  },
  {
   "cell_type": "code",
   "execution_count": 6,
   "metadata": {},
   "outputs": [
    {
     "data": {
      "text/plain": [
       "['진로,취업,직장',\n",
       " '대인관계',\n",
       " '연애,결혼,출산',\n",
       " '재정,은퇴,노후준비',\n",
       " '재정',\n",
       " '건강,죽음',\n",
       " '학업 및 진로',\n",
       " '학교폭력/따돌림',\n",
       " '직장, 업무 스트레스',\n",
       " '대인관계(부부, 자녀)',\n",
       " '가족관계',\n",
       " '건강',\n",
       " nan,\n",
       " '가족',\n",
       " '건강문제',\n",
       " '결혼',\n",
       " '경제적문제',\n",
       " '공부',\n",
       " '군대',\n",
       " '귀국',\n",
       " '남자친구',\n",
       " '남편',\n",
       " '대학',\n",
       " '문제',\n",
       " '부모',\n",
       " '사고',\n",
       " '사업',\n",
       " '생활',\n",
       " '성격',\n",
       " '시댁',\n",
       " '아르바이트',\n",
       " '애완동물',\n",
       " '어린시절',\n",
       " '여자친구',\n",
       " '연애',\n",
       " '유학',\n",
       " '육아',\n",
       " '음주',\n",
       " '이사',\n",
       " '이혼',\n",
       " '임신',\n",
       " '자각',\n",
       " '자녀',\n",
       " '전연인',\n",
       " '종교',\n",
       " '직장',\n",
       " '진로',\n",
       " '취업',\n",
       " '친구',\n",
       " '타인',\n",
       " '학교',\n",
       " '학업']"
      ]
     },
     "execution_count": 6,
     "metadata": {},
     "output_type": "execute_result"
    }
   ],
   "source": [
    "column_values = {}\n",
    "unique_values = Train_data['원인'].unique()\n",
    "column_values['cause'] = list(unique_values)\n",
    "column_values['cause']"
   ]
  },
  {
   "cell_type": "code",
   "execution_count": 7,
   "metadata": {},
   "outputs": [],
   "source": [
    "# '대인관계(부부, 자녀)' 값을 '가족'으로 변경\n",
    "Train_data.loc[Train_data['원인'] == '대인관계(부부, 자녀)', '원인'] = '가족'\n",
    "\n",
    "# '원인' 컬럼을 , 기준으로 원인1, 원인2, 원인3 컬럼으로 나누기\n",
    "Train_data[['원인1', '원인2', '원인3']] = Train_data['원인'].str.split(',', expand=True)\n",
    "\n",
    "# 공백 제거\n",
    "Train_data['원인1'] = Train_data['원인1'].str.strip()\n",
    "Train_data['원인2'] = Train_data['원인2'].str.strip()\n",
    "Train_data['원인3'] = Train_data['원인3'].str.strip()\n",
    "\n",
    "# 빈 값을 NaN으로 변경\n",
    "Train_data[['원인1', '원인2', '원인3']] = Train_data[['원인1', '원인2', '원인3']].replace('', np.nan)\n",
    "Train_data = Train_data.drop('원인', axis=1)"
   ]
  },
  {
   "cell_type": "code",
   "execution_count": 8,
   "metadata": {},
   "outputs": [],
   "source": [
    "cause_mapping = {\n",
    "    '가족': ['대인관계(부부, 자녀)','가족관계','가족','남편','부모','시댁','애완동물','자녀'],\n",
    "    '건강': ['건강', '죽음', '건강문제','음주', '사고'],\n",
    "    '결혼': ['결혼', '이혼'],\n",
    "    '대인관계': ['어린시절', '대인관계', '성격', '친구','타인'],\n",
    "    '사회': ['군대', '생활', '종교'],\n",
    "    '연애': ['연애','남자친구','여자친구','전애인'],\n",
    "    '재정': ['재정', '노후준비', '경제적문제'],\n",
    "    '직장': ['직장','업무 스트레스','사업','아르바이트','은퇴', '취업'],\n",
    "    '진로': ['진로', '귀국','대학','유학','자존감저하','절망감','좌절','죄책감','창피함','후회','비관적'],\n",
    "    '출산': ['출산', '육아', '임신'],\n",
    "    '학교': ['학교','학업 및 진로', '학교폭력/따돌림','공부','학업'],\n",
    "}"
   ]
  },
  {
   "cell_type": "code",
   "execution_count": 9,
   "metadata": {},
   "outputs": [],
   "source": [
    "\n",
    "# 1. Train_data의 원인1, 원인2, 원인3 각각에 값이 있는지 확인\n",
    "for column in ['원인1', '원인2', '원인3']:\n",
    "    Train_data[column] = Train_data[column].fillna('')\n",
    "\n",
    "# 2. 빈 칸인 컬럼은 pass, 값이 있는 컬럼만 다음 단계로 넘어가기\n",
    "for index, row in Train_data.iterrows():\n",
    "    causes = [row['원인1'], row['원인2'], row['원인3']]\n",
    "    if all(not cause for cause in causes):\n",
    "        continue\n",
    "\n",
    "    # 3. 값이 있다면 cause_mapping에 따라 컬럼들을 매칭해주고, 빈 칸이 아닌 값 중에 cause_mapping에 매칭되는 컬럼이 없다면 '기타'로 표시\n",
    "    new_causes = []\n",
    "    for cause in causes:\n",
    "        if cause:\n",
    "            matched_cause = False\n",
    "            for key, values in cause_mapping.items():\n",
    "                if cause in values:\n",
    "                    new_causes.append(key)\n",
    "                    matched_cause = True\n",
    "                    break\n",
    "            if not matched_cause:\n",
    "                new_causes.append('기타')\n",
    "        else:\n",
    "            continue\n",
    "            \n",
    "    # 4. 기타는 0, 가족~학교까지는 1~11까지 컬럼들로 매칭\n",
    "    label_mapping = {\n",
    "        '기타': 0,\n",
    "        '가족': 1,\n",
    "        '건강': 2,\n",
    "        '결혼': 3,\n",
    "        '대인관계': 4,\n",
    "        '사회': 5,\n",
    "        '연애': 6,\n",
    "        '재정': 7,\n",
    "        '직장': 8,\n",
    "        '진로': 9,\n",
    "        '출산': 10,\n",
    "        '학교': 11\n",
    "    }\n",
    "    for i, cause in enumerate(new_causes):\n",
    "        Train_data.loc[index, f'원인{i+1}'] = label_mapping[cause]"
   ]
  },
  {
   "cell_type": "code",
   "execution_count": 10,
   "metadata": {},
   "outputs": [
    {
     "data": {
      "text/html": [
       "<div>\n",
       "<style scoped>\n",
       "    .dataframe tbody tr th:only-of-type {\n",
       "        vertical-align: middle;\n",
       "    }\n",
       "\n",
       "    .dataframe tbody tr th {\n",
       "        vertical-align: top;\n",
       "    }\n",
       "\n",
       "    .dataframe thead th {\n",
       "        text-align: right;\n",
       "    }\n",
       "</style>\n",
       "<table border=\"1\" class=\"dataframe\">\n",
       "  <thead>\n",
       "    <tr style=\"text-align: right;\">\n",
       "      <th></th>\n",
       "      <th>사람문장</th>\n",
       "      <th>감정</th>\n",
       "      <th>원인1</th>\n",
       "      <th>원인2</th>\n",
       "      <th>원인3</th>\n",
       "    </tr>\n",
       "  </thead>\n",
       "  <tbody>\n",
       "    <tr>\n",
       "      <th>0</th>\n",
       "      <td>일은 왜 해도 해도 끝이 없을까? 화가 난다.그냥 내가 해결하는 게 나아. 남들한테...</td>\n",
       "      <td>1</td>\n",
       "      <td>9</td>\n",
       "      <td>8</td>\n",
       "      <td>8</td>\n",
       "    </tr>\n",
       "    <tr>\n",
       "      <th>1</th>\n",
       "      <td>이번 달에 또 급여가 깎였어! 물가는 오르는데 월급만 자꾸 깎이니까 너무 화가 나....</td>\n",
       "      <td>1</td>\n",
       "      <td>9</td>\n",
       "      <td>8</td>\n",
       "      <td>8</td>\n",
       "    </tr>\n",
       "    <tr>\n",
       "      <th>2</th>\n",
       "      <td>회사에 신입이 들어왔는데 말투가 거슬려. 그런 애를 매일 봐야 한다고 생각하니까 스...</td>\n",
       "      <td>1</td>\n",
       "      <td>9</td>\n",
       "      <td>8</td>\n",
       "      <td>8</td>\n",
       "    </tr>\n",
       "    <tr>\n",
       "      <th>3</th>\n",
       "      <td>직장에서 막내라는 이유로 나에게만 온갖 심부름을 시켜. 일도 많은 데 정말 분하고 ...</td>\n",
       "      <td>1</td>\n",
       "      <td>9</td>\n",
       "      <td>8</td>\n",
       "      <td>8</td>\n",
       "    </tr>\n",
       "    <tr>\n",
       "      <th>4</th>\n",
       "      <td>얼마 전 입사한 신입사원이 나를 무시하는 것 같아서 너무 화가 나.상사인 나에게 먼...</td>\n",
       "      <td>1</td>\n",
       "      <td>9</td>\n",
       "      <td>8</td>\n",
       "      <td>8</td>\n",
       "    </tr>\n",
       "  </tbody>\n",
       "</table>\n",
       "</div>"
      ],
      "text/plain": [
       "                                                사람문장  감정 원인1 원인2 원인3\n",
       "0  일은 왜 해도 해도 끝이 없을까? 화가 난다.그냥 내가 해결하는 게 나아. 남들한테...   1   9   8   8\n",
       "1  이번 달에 또 급여가 깎였어! 물가는 오르는데 월급만 자꾸 깎이니까 너무 화가 나....   1   9   8   8\n",
       "2  회사에 신입이 들어왔는데 말투가 거슬려. 그런 애를 매일 봐야 한다고 생각하니까 스...   1   9   8   8\n",
       "3  직장에서 막내라는 이유로 나에게만 온갖 심부름을 시켜. 일도 많은 데 정말 분하고 ...   1   9   8   8\n",
       "4  얼마 전 입사한 신입사원이 나를 무시하는 것 같아서 너무 화가 나.상사인 나에게 먼...   1   9   8   8"
      ]
     },
     "execution_count": 10,
     "metadata": {},
     "output_type": "execute_result"
    }
   ],
   "source": [
    "Train_data.head()"
   ]
  },
  {
   "cell_type": "code",
   "execution_count": 15,
   "metadata": {},
   "outputs": [],
   "source": [
    "Train_data = Train_data.rename(columns={'사람문장': 'sentence', '감정': 'emotion'})\n",
    "Train_data['cause'] = Train_data[['원인1', '원인2', '원인3']].astype(str).apply(lambda x: ', '.join(filter(None, x)), axis=1)\n",
    "Train_data['cause'] = Train_data['cause'].replace('', np.nan).fillna(Train_data['cause'])"
   ]
  },
  {
   "cell_type": "code",
   "execution_count": 16,
   "metadata": {},
   "outputs": [],
   "source": [
    "Train_data = Train_data.drop('원인1', axis=1)\n",
    "Train_data = Train_data.drop('원인2', axis=1)\n",
    "Train_data = Train_data.drop('원인3', axis=1)"
   ]
  },
  {
   "cell_type": "code",
   "execution_count": 17,
   "metadata": {},
   "outputs": [
    {
     "data": {
      "text/html": [
       "<div>\n",
       "<style scoped>\n",
       "    .dataframe tbody tr th:only-of-type {\n",
       "        vertical-align: middle;\n",
       "    }\n",
       "\n",
       "    .dataframe tbody tr th {\n",
       "        vertical-align: top;\n",
       "    }\n",
       "\n",
       "    .dataframe thead th {\n",
       "        text-align: right;\n",
       "    }\n",
       "</style>\n",
       "<table border=\"1\" class=\"dataframe\">\n",
       "  <thead>\n",
       "    <tr style=\"text-align: right;\">\n",
       "      <th></th>\n",
       "      <th>sentence</th>\n",
       "      <th>emotion</th>\n",
       "      <th>cause</th>\n",
       "    </tr>\n",
       "  </thead>\n",
       "  <tbody>\n",
       "    <tr>\n",
       "      <th>0</th>\n",
       "      <td>일은 왜 해도 해도 끝이 없을까? 화가 난다.그냥 내가 해결하는 게 나아. 남들한테...</td>\n",
       "      <td>1</td>\n",
       "      <td>9, 8, 8</td>\n",
       "    </tr>\n",
       "    <tr>\n",
       "      <th>1</th>\n",
       "      <td>이번 달에 또 급여가 깎였어! 물가는 오르는데 월급만 자꾸 깎이니까 너무 화가 나....</td>\n",
       "      <td>1</td>\n",
       "      <td>9, 8, 8</td>\n",
       "    </tr>\n",
       "    <tr>\n",
       "      <th>2</th>\n",
       "      <td>회사에 신입이 들어왔는데 말투가 거슬려. 그런 애를 매일 봐야 한다고 생각하니까 스...</td>\n",
       "      <td>1</td>\n",
       "      <td>9, 8, 8</td>\n",
       "    </tr>\n",
       "    <tr>\n",
       "      <th>3</th>\n",
       "      <td>직장에서 막내라는 이유로 나에게만 온갖 심부름을 시켜. 일도 많은 데 정말 분하고 ...</td>\n",
       "      <td>1</td>\n",
       "      <td>9, 8, 8</td>\n",
       "    </tr>\n",
       "    <tr>\n",
       "      <th>4</th>\n",
       "      <td>얼마 전 입사한 신입사원이 나를 무시하는 것 같아서 너무 화가 나.상사인 나에게 먼...</td>\n",
       "      <td>1</td>\n",
       "      <td>9, 8, 8</td>\n",
       "    </tr>\n",
       "  </tbody>\n",
       "</table>\n",
       "</div>"
      ],
      "text/plain": [
       "                                            sentence  emotion    cause\n",
       "0  일은 왜 해도 해도 끝이 없을까? 화가 난다.그냥 내가 해결하는 게 나아. 남들한테...        1  9, 8, 8\n",
       "1  이번 달에 또 급여가 깎였어! 물가는 오르는데 월급만 자꾸 깎이니까 너무 화가 나....        1  9, 8, 8\n",
       "2  회사에 신입이 들어왔는데 말투가 거슬려. 그런 애를 매일 봐야 한다고 생각하니까 스...        1  9, 8, 8\n",
       "3  직장에서 막내라는 이유로 나에게만 온갖 심부름을 시켜. 일도 많은 데 정말 분하고 ...        1  9, 8, 8\n",
       "4  얼마 전 입사한 신입사원이 나를 무시하는 것 같아서 너무 화가 나.상사인 나에게 먼...        1  9, 8, 8"
      ]
     },
     "execution_count": 17,
     "metadata": {},
     "output_type": "execute_result"
    }
   ],
   "source": [
    "Train_data.head()"
   ]
  },
  {
   "cell_type": "code",
   "execution_count": null,
   "metadata": {},
   "outputs": [],
   "source": [
    "Train_data.to_csv(os.path.join(data_dir, 'train_data(emotion, cause).csv'), encoding = 'cp949', index=False)"
   ]
  },
  {
   "cell_type": "code",
   "execution_count": null,
   "metadata": {},
   "outputs": [],
   "source": []
  }
 ],
 "metadata": {
  "kernelspec": {
   "display_name": ".venv",
   "language": "python",
   "name": "python3"
  },
  "language_info": {
   "codemirror_mode": {
    "name": "ipython",
    "version": 3
   },
   "file_extension": ".py",
   "mimetype": "text/x-python",
   "name": "python",
   "nbconvert_exporter": "python",
   "pygments_lexer": "ipython3",
   "version": "3.7.9"
  },
  "orig_nbformat": 4
 },
 "nbformat": 4,
 "nbformat_minor": 2
}
